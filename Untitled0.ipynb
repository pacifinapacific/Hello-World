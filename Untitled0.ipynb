{
  "nbformat": 4,
  "nbformat_minor": 0,
  "metadata": {
    "colab": {
      "name": "Untitled0.ipynb",
      "version": "0.3.2",
      "provenance": [],
      "include_colab_link": true
    },
    "kernelspec": {
      "name": "python3",
      "display_name": "Python 3"
    },
    "accelerator": "GPU"
  },
  "cells": [
    {
      "cell_type": "markdown",
      "metadata": {
        "id": "view-in-github",
        "colab_type": "text"
      },
      "source": [
        "[View in Colaboratory](https://colab.research.google.com/github/pacifinapacific/Hello-World/blob/master/Untitled0.ipynb)"
      ]
    },
    {
      "metadata": {
        "id": "S3gLTz5-8Smj",
        "colab_type": "code",
        "colab": {}
      },
      "cell_type": "code",
      "source": [
        ""
      ],
      "execution_count": 0,
      "outputs": []
    },
    {
      "metadata": {
        "id": "jsgsa_748nqL",
        "colab_type": "code",
        "colab": {}
      },
      "cell_type": "code",
      "source": [
        ""
      ],
      "execution_count": 0,
      "outputs": []
    },
    {
      "metadata": {
        "id": "3zx1emyy44T1",
        "colab_type": "code",
        "colab": {}
      },
      "cell_type": "code",
      "source": [
        ""
      ],
      "execution_count": 0,
      "outputs": []
    },
    {
      "metadata": {
        "id": "nfRjOjw69H62",
        "colab_type": "code",
        "colab": {}
      },
      "cell_type": "code",
      "source": [
        ""
      ],
      "execution_count": 0,
      "outputs": []
    },
    {
      "metadata": {
        "id": "Y-YqJ6QD9Kwy",
        "colab_type": "code",
        "colab": {}
      },
      "cell_type": "code",
      "source": [
        ""
      ],
      "execution_count": 0,
      "outputs": []
    },
    {
      "metadata": {
        "id": "6fE9TVTD9THZ",
        "colab_type": "code",
        "colab": {}
      },
      "cell_type": "code",
      "source": [
        ""
      ],
      "execution_count": 0,
      "outputs": []
    },
    {
      "metadata": {
        "id": "Q2VgfohM9fxr",
        "colab_type": "code",
        "colab": {
          "base_uri": "https://localhost:8080/",
          "height": 88
        },
        "outputId": "903dc70f-68b6-4bc2-cdeb-aa962307e234"
      },
      "cell_type": "code",
      "source": [
        "from os import path\n",
        "from wheel.pep425tags import get_abbr_impl, get_impl_ver, get_abi_tag\n",
        "platform = '{}{}-{}'.format(get_abbr_impl(), get_impl_ver(), get_abi_tag())\n",
        "\n",
        "accelerator = 'cu80' if path.exists('/opt/bin/nvidia-smi') else 'cpu'\n",
        "\n",
        "!pip install -q http://download.pytorch.org/whl/{accelerator}/torch-0.4.0-{platform}-linux_x86_64.whl torchvision\n",
        "import torch\n",
        "print(torch.__version__)\n",
        "print(torch.cuda.is_available())"
      ],
      "execution_count": 6,
      "outputs": [
        {
          "output_type": "stream",
          "text": [
            "tcmalloc: large alloc 1073750016 bytes == 0x5b136000 @  0x7fee4bb091c4 0x46d6a4 0x5fcbcc 0x4c494d 0x54f3c4 0x553aaf 0x54e4c8 0x54f4f6 0x553aaf 0x54efc1 0x54f24d 0x553aaf 0x54efc1 0x54f24d 0x553aaf 0x54efc1 0x54f24d 0x551ee0 0x54e4c8 0x54f4f6 0x553aaf 0x54efc1 0x54f24d 0x551ee0 0x54efc1 0x54f24d 0x551ee0 0x54e4c8 0x54f4f6 0x553aaf 0x54e4c8\r\n",
            "0.4.0\n",
            "True\n"
          ],
          "name": "stdout"
        }
      ]
    },
    {
      "metadata": {
        "id": "H3gSEAWK9la2",
        "colab_type": "code",
        "colab": {}
      },
      "cell_type": "code",
      "source": [
        ""
      ],
      "execution_count": 0,
      "outputs": []
    },
    {
      "metadata": {
        "id": "zIU3d75SGJEC",
        "colab_type": "code",
        "colab": {}
      },
      "cell_type": "code",
      "source": [
        ""
      ],
      "execution_count": 0,
      "outputs": []
    },
    {
      "metadata": {
        "id": "XNHf7x5R-Qi9",
        "colab_type": "code",
        "colab": {}
      },
      "cell_type": "code",
      "source": [
        ""
      ],
      "execution_count": 0,
      "outputs": []
    },
    {
      "metadata": {
        "id": "Dxh0iBVpPYOk",
        "colab_type": "code",
        "colab": {}
      },
      "cell_type": "code",
      "source": [
        ""
      ],
      "execution_count": 0,
      "outputs": []
    },
    {
      "metadata": {
        "id": "uP4wjWACPgcN",
        "colab_type": "code",
        "colab": {}
      },
      "cell_type": "code",
      "source": [
        ""
      ],
      "execution_count": 0,
      "outputs": []
    },
    {
      "metadata": {
        "id": "YBwu4CRj-ZUw",
        "colab_type": "code",
        "colab": {
          "base_uri": "https://localhost:8080/",
          "height": 34
        },
        "outputId": "94585f2f-d067-4871-c94a-25bddc23abd7"
      },
      "cell_type": "code",
      "source": [
        "!ls"
      ],
      "execution_count": 1,
      "outputs": [
        {
          "output_type": "stream",
          "text": [
            "adc.json  drive  __MACOSX  sample_data\tSuperResolution  SuperResolution.zip\r\n"
          ],
          "name": "stdout"
        }
      ]
    },
    {
      "metadata": {
        "id": "AUEgtyQt-x6g",
        "colab_type": "code",
        "colab": {
          "base_uri": "https://localhost:8080/",
          "height": 34
        },
        "outputId": "3407f844-0b0d-4eb0-830e-f69fc26665ed"
      },
      "cell_type": "code",
      "source": [
        "cd SuperResolution"
      ],
      "execution_count": 2,
      "outputs": [
        {
          "output_type": "stream",
          "text": [
            "/content/SuperResolution\n"
          ],
          "name": "stdout"
        }
      ]
    },
    {
      "metadata": {
        "id": "LaQhzc5z-3Ol",
        "colab_type": "code",
        "colab": {
          "base_uri": "https://localhost:8080/",
          "height": 34
        },
        "outputId": "b5597948-61a0-402f-f188-b22466318269"
      },
      "cell_type": "code",
      "source": [
        "!ls"
      ],
      "execution_count": 3,
      "outputs": [
        {
          "output_type": "stream",
          "text": [
            "asset  dataset\tsave_image  SRGAN.ipynb\r\n"
          ],
          "name": "stdout"
        }
      ]
    },
    {
      "metadata": {
        "id": "lrXthj0RRhkc",
        "colab_type": "code",
        "colab": {
          "base_uri": "https://localhost:8080/",
          "height": 34
        },
        "outputId": "bd072d1d-8cce-4c7d-d927-4d246787e1a1"
      },
      "cell_type": "code",
      "source": [
        "!cd SuperResolution\n",
        "\n",
        "!mv  lfw-deepfunneled ~\n",
        "\n",
        "!cd ~"
      ],
      "execution_count": 6,
      "outputs": [
        {
          "output_type": "stream",
          "text": [
            "mv: cannot stat 'lfw-deepfunneled': No such file or directory\r\n"
          ],
          "name": "stdout"
        }
      ]
    },
    {
      "metadata": {
        "id": "vYCNT3heU48x",
        "colab_type": "code",
        "colab": {}
      },
      "cell_type": "code",
      "source": [
        ""
      ],
      "execution_count": 0,
      "outputs": []
    },
    {
      "metadata": {
        "id": "JdzxfyMAW8q4",
        "colab_type": "code",
        "colab": {
          "base_uri": "https://localhost:8080/",
          "height": 34
        },
        "outputId": "27d9d67e-8275-4022-fdf2-3097b2860eb3"
      },
      "cell_type": "code",
      "source": [
        "!ls SuperResolution"
      ],
      "execution_count": 9,
      "outputs": [
        {
          "output_type": "stream",
          "text": [
            "asset  dataset\tsave_image  SRGAN.ipynb\r\n"
          ],
          "name": "stdout"
        }
      ]
    },
    {
      "metadata": {
        "id": "gXrUY0K040NP",
        "colab_type": "text"
      },
      "cell_type": "markdown",
      "source": [
        ""
      ]
    },
    {
      "metadata": {
        "id": "z8bKe8MDXKp6",
        "colab_type": "code",
        "colab": {}
      },
      "cell_type": "code",
      "source": [
        ""
      ],
      "execution_count": 0,
      "outputs": []
    },
    {
      "metadata": {
        "id": "MqlWubms-3o6",
        "colab_type": "code",
        "colab": {
          "base_uri": "https://localhost:8080/",
          "height": 34
        },
        "outputId": "f2de4832-ec99-45ea-f2e5-9ffcac9958f5"
      },
      "cell_type": "code",
      "source": [
        "import torchvision.transforms as transforms\n",
        "from torch.utils.data import DataLoader\n",
        "from torchvision.datasets import ImageFolder\n",
        "import torch.nn as nn\n",
        "import torch\n",
        "import os\n",
        "import torch.utils.data\n",
        "import torch.optim as optim\n",
        "from torchvision.datasets import MNIST\n",
        "import matplotlib.pyplot as plt\n",
        "from torch.nn import functional as F\n",
        "import numpy as np\n",
        "from torchvision.utils import save_image\n",
        "%matplotlib inline\n",
        "from torchvision.models.vgg import vgg16\n",
        "cuda = torch.cuda.is_available()\n",
        "if cuda:\n",
        "    print('cuda is available!')\n",
        "\n",
        "if not os.path.exists(\"drive/save_image\"):\n",
        "    os.mkdir(\"drive/save_image\")\n",
        "if not os.path.exists(\"drive/dataset\"):\n",
        "    os.mkdir(\"drive/dataset\")\n",
        "if not os.path.exists(\"drive/asset\"):\n",
        "    os.mkdir(\"drive/asset\")"
      ],
      "execution_count": 10,
      "outputs": [
        {
          "output_type": "stream",
          "text": [
            "cuda is available!\n"
          ],
          "name": "stdout"
        }
      ]
    },
    {
      "metadata": {
        "id": "2iycuMnYXDNp",
        "colab_type": "code",
        "colab": {}
      },
      "cell_type": "code",
      "source": [
        ""
      ],
      "execution_count": 0,
      "outputs": []
    },
    {
      "metadata": {
        "id": "e1Vzdc61-9Y9",
        "colab_type": "code",
        "colab": {}
      },
      "cell_type": "code",
      "source": [
        "class DownSizePairImageFolder(ImageFolder):\n",
        "    def __init__(self, root, transform=None, large_size=256, small_size=64, **kwds):\n",
        "        super().__init__(root, transform=transform, **kwds)\n",
        "        self.large_resizer = transforms.Scale(large_size)\n",
        "        self.small_resizer = transforms.Scale(small_size)\n",
        "        \n",
        "    def __getitem__(self, index):\n",
        "        path, _ = self.imgs[index]\n",
        "        img = self.loader(path)\n",
        "        large_img = self.large_resizer(img)\n",
        "        small_img = self.small_resizer(img)\n",
        "        if self.transform is not None:\n",
        "            large_img = self.transform(large_img)\n",
        "            small_img = self.transform(small_img)\n",
        "        return small_img, large_img"
      ],
      "execution_count": 0,
      "outputs": []
    },
    {
      "metadata": {
        "id": "dcoFZWzR5yiV",
        "colab_type": "text"
      },
      "cell_type": "markdown",
      "source": [
        ""
      ]
    },
    {
      "metadata": {
        "id": "0ugjOOo7-_Yr",
        "colab_type": "code",
        "colab": {}
      },
      "cell_type": "code",
      "source": [
        "train_data = DownSizePairImageFolder('./lfw-deepfunneled/train', transform=transforms.ToTensor())\n",
        "test_data = DownSizePairImageFolder('./lfw-deepfunneled/test', transform=transforms.ToTensor())\n",
        "batch_size = 8\n",
        "train_loader = DataLoader(train_data, batch_size, shuffle=True)\n",
        "test_loader = DataLoader(test_data, batch_size, shuffle=False)"
      ],
      "execution_count": 0,
      "outputs": []
    },
    {
      "metadata": {
        "id": "hO1JkM41Aqdi",
        "colab_type": "code",
        "colab": {}
      },
      "cell_type": "code",
      "source": [
        ""
      ],
      "execution_count": 0,
      "outputs": []
    },
    {
      "metadata": {
        "id": "MtFMddiV_JPf",
        "colab_type": "code",
        "colab": {}
      },
      "cell_type": "code",
      "source": [
        "!pip install Pillow==4.0.0\n",
        "!pip install PIL\n",
        "!pip install image\n",
        "import PIL.image"
      ],
      "execution_count": 0,
      "outputs": []
    },
    {
      "metadata": {
        "id": "m2G61-74_BXI",
        "colab_type": "code",
        "colab": {
          "base_uri": "https://localhost:8080/",
          "height": 320
        },
        "outputId": "3734e779-1f9d-4ed0-d316-b1738f26802b"
      },
      "cell_type": "code",
      "source": [
        "#print( train_data.class_to_idx)\n",
        "images_lr, images_hr = iter(train_loader).next()\n",
        "image=images_hr[0]\n",
        "print(image.size())\n",
        "image_np=image.numpy()\n",
        "print(image_np.max(),image_np.min())\n",
        "image_np=np.transpose(image_np,(1,2,0))\n",
        "plt.imshow(image_np)"
      ],
      "execution_count": 8,
      "outputs": [
        {
          "output_type": "stream",
          "text": [
            "torch.Size([3, 256, 256])\n",
            "1.0 0.0\n"
          ],
          "name": "stdout"
        },
        {
          "output_type": "execute_result",
          "data": {
            "text/plain": [
              "<matplotlib.image.AxesImage at 0x7f32fafaec50>"
            ]
          },
          "metadata": {
            "tags": []
          },
          "execution_count": 8
        },
        {
          "output_type": "display_data",
          "data": {
            "image/png": "[encoded data removed]",
            "text/plain": [
              "<matplotlib.figure.Figure at 0x7f32fafeda20>"
            ]
          },
          "metadata": {
            "tags": []
          }
        }
      ]
    },
    {
      "metadata": {
        "id": "slSNfMBc_D5G",
        "colab_type": "code",
        "colab": {
          "base_uri": "https://localhost:8080/",
          "height": 319
        },
        "outputId": "ad3d99cd-f703-42f2-efcc-58cffcf7d692"
      },
      "cell_type": "code",
      "source": [
        "image=images_lr[0]\n",
        "print(image.size())\n",
        "image_np=image.numpy()\n",
        "print(image_np.max(),image_np.min())\n",
        "image_np=np.transpose(image_np,(1,2,0))\n",
        "plt.imshow(image_np)"
      ],
      "execution_count": 9,
      "outputs": [
        {
          "output_type": "stream",
          "text": [
            "torch.Size([3, 64, 64])\n",
            "1.0 0.0\n"
          ],
          "name": "stdout"
        },
        {
          "output_type": "execute_result",
          "data": {
            "text/plain": [
              "<matplotlib.image.AxesImage at 0x7f32f6e4f0b8>"
            ]
          },
          "metadata": {
            "tags": []
          },
          "execution_count": 9
        },
        {
          "output_type": "display_data",
          "data": {
            "image/png": "[encoded data removed]",
            "text/plain": [
              "<matplotlib.figure.Figure at 0x7f32fbb0e8d0>"
            ]
          },
          "metadata": {
            "tags": []
          }
        }
      ]
    },
    {
      "metadata": {
        "id": "1H0KfP5-BFSI",
        "colab_type": "code",
        "colab": {}
      },
      "cell_type": "code",
      "source": [
        "class Generator(nn.Module):\n",
        "    def __init__(self,image_size):\n",
        "        super(Generator,self).__init__()\n",
        "        self.image_size=image_size\n",
        "        \n",
        "        self.pre_layer=nn.Sequential(\n",
        "            nn.Conv2d(3,64,kernel_size=9,stride=1,padding=4),\n",
        "            nn.PReLU())\n",
        "        \n",
        "        self.residual_layer=nn.Sequential(\n",
        "            ResidualBlock(64),\n",
        "            ResidualBlock(64),\n",
        "            ResidualBlock(64),\n",
        "            ResidualBlock(64),\n",
        "            ResidualBlock(64))\n",
        "        \n",
        "        self.middle_layer=nn.Sequential(\n",
        "            nn.Conv2d(64,64,kernel_size=3,stride=1,padding=1),\n",
        "            nn.BatchNorm2d(64))\n",
        "        \n",
        "        self.pixcelshuffer_layer=nn.Sequential(\n",
        "            Pixcelshuffer(64,2),\n",
        "            Pixcelshuffer(64,2),\n",
        "            nn.Conv2d(64,3,kernel_size=9,stride=1,padding=4))\n",
        "    def forward(self,input_image):\n",
        "        pre=self.pre_layer(input_image)\n",
        "        res=self.residual_layer(pre)\n",
        "        middle=self.middle_layer(res)\n",
        "        middle=middle+pre\n",
        "        output=self.pixcelshuffer_layer(middle)\n",
        "        \n",
        "        return output\n",
        "        "
      ],
      "execution_count": 0,
      "outputs": []
    },
    {
      "metadata": {
        "id": "2SlMpIIoBHpq",
        "colab_type": "code",
        "colab": {}
      },
      "cell_type": "code",
      "source": [
        "class ResidualBlock(nn.Module):\n",
        "    def __init__(self,input_channel):\n",
        "        super(ResidualBlock,self).__init__()\n",
        "        \n",
        "        self.residualblock=nn.Sequential(\n",
        "            nn.Conv2d(input_channel,input_channel,kernel_size=3,stride=1,padding=1),\n",
        "            nn.BatchNorm2d(input_channel),\n",
        "            nn.PReLU(),\n",
        "            nn.Conv2d(input_channel,input_channel,kernel_size=3,stride=1,padding=1),\n",
        "            nn.BatchNorm2d(input_channel))\n",
        "    def forward(self,x):\n",
        "        residual=self.residualblock(x)\n",
        "        \n",
        "        return x+residual"
      ],
      "execution_count": 0,
      "outputs": []
    },
    {
      "metadata": {
        "id": "xVN33ai5BJhC",
        "colab_type": "code",
        "colab": {}
      },
      "cell_type": "code",
      "source": [
        "class Pixcelshuffer(nn.Module):\n",
        "    def __init__(self,input_channel,r): #r=upscale_factor\n",
        "        super(Pixcelshuffer,self).__init__()\n",
        "        \n",
        "        self.layer=nn.Sequential(\n",
        "            nn.Conv2d(input_channel,256,kernel_size=3,stride=1,padding=1), \n",
        "            nn.PixelShuffle(r),\n",
        "            nn.PReLU())\n",
        "    def forward(self,x):\n",
        "        return self.layer(x)"
      ],
      "execution_count": 0,
      "outputs": []
    },
    {
      "metadata": {
        "id": "YFw1mCGZBLCy",
        "colab_type": "code",
        "colab": {
          "base_uri": "https://localhost:8080/",
          "height": 34
        },
        "outputId": "101d64ff-60e4-41b1-a467-23c58c719b80"
      },
      "cell_type": "code",
      "source": [
        "test_input=torch.ones(1,3,64,64)\n",
        "g=Generator(64)\n",
        "if cuda:\n",
        "    test_input=test_input.cuda()\n",
        "    g=g.cuda()\n",
        "out=g(test_input)\n",
        "print(out.size())"
      ],
      "execution_count": 13,
      "outputs": [
        {
          "output_type": "stream",
          "text": [
            "torch.Size([1, 3, 256, 256])\n"
          ],
          "name": "stdout"
        }
      ]
    },
    {
      "metadata": {
        "id": "-ppxvvNiBMva",
        "colab_type": "code",
        "colab": {}
      },
      "cell_type": "code",
      "source": [
        "class Discriminator(nn.Module):\n",
        "    def __init__(self):\n",
        "        super(Discriminator,self).__init__()\n",
        "        \n",
        "        self.conv_layers=nn.Sequential(\n",
        "            nn.Conv2d(3,64,kernel_size=3,stride=1,padding=1),\n",
        "            nn.LeakyReLU(0.2),\n",
        "            \n",
        "            nn.Conv2d(64,64,kernel_size=3,stride=2,padding=1),\n",
        "            nn.BatchNorm2d(64),\n",
        "            nn.LeakyReLU(0.2),\n",
        "            \n",
        "            nn.Conv2d(64,128,kernel_size=3,stride=1,padding=1),\n",
        "            nn.BatchNorm2d(128),\n",
        "            nn.LeakyReLU(0.2),\n",
        "            \n",
        "            nn.Conv2d(128,128,kernel_size=3,stride=2,padding=1),\n",
        "            nn.BatchNorm2d(128),\n",
        "            nn.LeakyReLU(0.2),\n",
        "            \n",
        "            nn.Conv2d(128,256,kernel_size=3,stride=1,padding=1),\n",
        "            nn.BatchNorm2d(256),\n",
        "            nn.LeakyReLU(0.2),\n",
        "            \n",
        "            nn.Conv2d(256,256,kernel_size=3,stride=2,padding=1),\n",
        "            nn.BatchNorm2d(256),\n",
        "            nn.LeakyReLU(0.2),\n",
        "            \n",
        "            nn.Conv2d(256,512,kernel_size=3,stride=1,padding=1),\n",
        "            nn.BatchNorm2d(512),\n",
        "            nn.LeakyReLU(0.2),\n",
        "            \n",
        "            nn.Conv2d(512,512,kernel_size=3,stride=2,padding=1),\n",
        "            nn.BatchNorm2d(512),\n",
        "            nn.LeakyReLU(0.2))#(512,316,16)\n",
        "        \n",
        "        self.dense_layer=nn.Sequential(\n",
        "            nn.Linear(16*16*512,1024),\n",
        "            nn.LeakyReLU(0.2),\n",
        "            nn.Linear(1024,1),\n",
        "            nn.Sigmoid())\n",
        "        \n",
        "    def forward(self,input_image):\n",
        "        batch_size=input_image.size()[0]\n",
        "        \n",
        "        conv=self.conv_layers(input_image)\n",
        "        reshape=conv.view(batch_size,-1)\n",
        "        output=self.dense_layer(reshape)\n",
        "        \n",
        "        return output\n"
      ],
      "execution_count": 0,
      "outputs": []
    },
    {
      "metadata": {
        "id": "t0K0-RuTBP7l",
        "colab_type": "code",
        "colab": {
          "base_uri": "https://localhost:8080/",
          "height": 34
        },
        "outputId": "c3613442-e94a-4c31-a870-eec2dca8f4e3"
      },
      "cell_type": "code",
      "source": [
        "test_input=torch.ones(1,3,256,256)\n",
        "d=Discriminator()\n",
        "if cuda:\n",
        "    test_input=test_input.cuda()\n",
        "    d=d.cuda()\n",
        "out=d(test_input)\n",
        "print(out.size())"
      ],
      "execution_count": 15,
      "outputs": [
        {
          "output_type": "stream",
          "text": [
            "torch.Size([1, 1])\n"
          ],
          "name": "stdout"
        }
      ]
    },
    {
      "metadata": {
        "id": "G6H7YHV8BRpU",
        "colab_type": "code",
        "colab": {}
      },
      "cell_type": "code",
      "source": [
        "def generator_loss(generated_image,hr_image,d_label,t_label):\n",
        "    vgg=vgg16(pretrained=True)\n",
        "    content_layers=nn.Sequential(*list(vgg.features)[:31]).cuda().eval()\n",
        "    for param in content_layers.parameters():\n",
        "        param.requires_grad=False\n",
        "    \n",
        "    mse_loss=nn.MSELoss()\n",
        "    content_loss=mse_loss(content_layers(generated_image),content_layers(hr_image))\n",
        "    \n",
        "    BCE_loss=nn.BCELoss()\n",
        "    adversarial_loss=BCE_loss(d_label,t_label)\n",
        "    \n",
        "    return content_loss,0.001*adversarial_loss\n",
        "    "
      ],
      "execution_count": 0,
      "outputs": []
    },
    {
      "metadata": {
        "id": "FZH33wfua7C4",
        "colab_type": "code",
        "colab": {}
      },
      "cell_type": "code",
      "source": [
        "class GeneratorLoss(nn.Module):\n",
        "  def __init__(self):\n",
        "    super(GeneratorLoss,self).__init__()\n",
        "    vgg=vgg16(pretrained=True)\n",
        "    content_layers=nn.Sequential(*list(vgg.features)[:31]).cuda().eval()\n",
        "    for param in content_layers.parameters():\n",
        "        param.requires_grad=False\n",
        "    self.content_layers=content_layers\n",
        "    self.mse__loss=nn.MSELoss()\n",
        "  def forward(generated_image,hr_image,d_label,t_label):\n",
        "    adversarial_loss=BCE_loss(d_label,t_label)\n",
        "    content_loss=self.mse_loss(self.content_layers(generated_image),self.content_layers(hr_image))\n",
        "    return content_loss,0.001*adversarial_loss"
      ],
      "execution_count": 0,
      "outputs": []
    },
    {
      "metadata": {
        "id": "zg50tiQBBT-g",
        "colab_type": "code",
        "colab": {}
      },
      "cell_type": "code",
      "source": [
        "G=Generator(64)\n",
        "D=Discriminator()\n",
        "\n",
        "if cuda:\n",
        "    G=G.cuda()\n",
        "    D=D.cuda()\n",
        "G_optimizer=optim.Adam(G.parameters(),lr=0.0001,betas=(0.9,0.999))\n",
        "D_optimizer=optim.Adam(D.parameters(),lr=0.0001,betas=(0.9,0.999))\n",
        "\n",
        "d_loss=nn.BCELoss()\n",
        "#Generator_Loss=GeneratorLoss()"
      ],
      "execution_count": 0,
      "outputs": []
    },
    {
      "metadata": {
        "id": "AyEKpZnea53_",
        "colab_type": "code",
        "colab": {}
      },
      "cell_type": "code",
      "source": [
        ""
      ],
      "execution_count": 0,
      "outputs": []
    },
    {
      "metadata": {
        "id": "OGZGwVOQBVzK",
        "colab_type": "code",
        "colab": {}
      },
      "cell_type": "code",
      "source": [
        "def train(epoch):\n",
        "    D.train()\n",
        "    G.train()\n",
        "    \n",
        "    y_real=torch.ones(batch_size,1)\n",
        "    y_fake=torch.zeros(batch_size,1)\n",
        "    \n",
        "    if cuda:\n",
        "        y_real=y_real.cuda()\n",
        "        y_fake=y_fake.cuda()\n",
        "        \n",
        "        D_loss=0\n",
        "        G_loss=0\n",
        "        \n",
        "    for batch_idx,(data_lr,data_hr)in enumerate(train_loader):\n",
        "        if data_lr.size()[0]!=batch_size:\n",
        "            break\n",
        "        if cuda:\n",
        "            data_lr=data_lr.cuda()\n",
        "            data_hr=data_hr.cuda()\n",
        "        print(batch_idx)\n",
        "        #D_optimizer.zero_grad()\n",
        "        D.zero_grad()\n",
        "        \n",
        "        D_real=D(data_hr)\n",
        "        D_real_loss=d_loss(D_real,y_real)\n",
        "        \n",
        "        fake_image=G(data_lr)\n",
        "        D_fake=D(fake_image)\n",
        "        D_fake_loss=d_loss(D_fake,y_fake)\n",
        "        \n",
        "        D_loss=D_real_loss+D_fake_loss\n",
        "        D_loss.backward(retain_graph=True)\n",
        "        D_optimizer.step()\n",
        "        D_loss+=D_loss.data[0]\n",
        "        \n",
        "        #G_optimizer.zero_grad()\n",
        "        G.zero_grad()\n",
        "        \n",
        "        content_loss,adversarial_loss=generator_loss(fake_image,data_hr,D_fake,y_real)\n",
        "        print(content_loss)\n",
        "        print(adversarial_loss)\n",
        "        G_loss=content_loss+adversarial_loss\n",
        "        #G_loss=Generator_loss(fake_image,data_hr,D_fake,y_real)\n",
        "        G_loss.backward()\n",
        "        G_optimizer.step()\n",
        "        G_loss+=G_loss.data[0]\n",
        "        \n",
        "        D_loss/=len(train_loader)\n",
        "        G_loss/=len(train_loader)\n",
        "        \"\"\"\"\n",
        "        if batch_idx%10==0:\n",
        "            g_image=fake_image.data.cpu()\n",
        "            hr_image=data_hr.data.cpu()\n",
        "            SR_image=torch.cat((hr_image,g_image),0)\n",
        "            save_image(SR_image,\"drive/save_image/epoch_{}_{}.png\".format(epoch,batch_idx))\n",
        "            print(\"save_image\")\n",
        "            #count+=1\n",
        "        \"\"\"\n",
        "        return D_loss,G_loss"
      ],
      "execution_count": 0,
      "outputs": []
    },
    {
      "metadata": {
        "id": "250gz4wQB5Be",
        "colab_type": "code",
        "colab": {
          "base_uri": "https://localhost:8080/",
          "height": 1123
        },
        "outputId": "97eb2d93-3f72-400d-813c-428338e30482"
      },
      "cell_type": "code",
      "source": [
        "d_loss_list=[]\n",
        "g_loss_list=[]\n",
        "total_loss_list=[]\n",
        "num_epoch=10000\n",
        "\n",
        "for epoch in range(1,num_epoch+1):\n",
        "    if epoch==1:\n",
        "        print(\"trainning start!!\")\n",
        "    d_loss_,g_loss_=train(epoch)\n",
        "    total_loss=d_loss_+g_loss_\n",
        "    print(\"epoch [{}/{}],--d_loss:{:.4f}--g_loss:{:.4f}--total_loss:{:.4f}\".format(epoch,num_epoch,\n",
        "                                                               d_loss_,g_loss_,total_loss))\n",
        "    d_loss_list.append(d_loss_)\n",
        "    g_loss_list.append(g_loss_)\n",
        "    total_loss_list.append(total_loss)\n",
        "    \n",
        "    if epoch%1==0:\n",
        "        #generate_image(epoch)\n",
        "        torch.save(G.state_dict(),\"drive/asset/G_epoch{}.pth\".format(epoch))\n",
        "        torch.save(D.state_dict(),\"drive/asset/D_epoch{}.pth\".format(epoch))\n",
        "    \n",
        "np.save(\"drive/asset/d_loss_list.npy\",np.array(d_loss_list))\n",
        "np.save(\"drive/asset/g_loss_list.npy\",np.array(g_loss_list))\n",
        "np.save(\"drive/asset/total_loss_list.npy\",np.array(total_loss_list))"
      ],
      "execution_count": 20,
      "outputs": [
        {
          "output_type": "stream",
          "text": [
            "trainning start!!\n",
            "0\n"
          ],
          "name": "stdout"
        },
        {
          "output_type": "error",
          "ename": "RuntimeError",
          "evalue": "ignored",
          "traceback": [
            "\u001b[0;31m---------------------------------------------------------------------------\u001b[0m",
            "\u001b[0;31mRuntimeError\u001b[0m                              Traceback (most recent call last)",
            "\u001b[0;32m<ipython-input-20-9f49bad04537>\u001b[0m in \u001b[0;36m<module>\u001b[0;34m()\u001b[0m\n\u001b[1;32m      7\u001b[0m     \u001b[0;32mif\u001b[0m \u001b[0mepoch\u001b[0m\u001b[0;34m==\u001b[0m\u001b[0;36m1\u001b[0m\u001b[0;34m:\u001b[0m\u001b[0;34m\u001b[0m\u001b[0m\n\u001b[1;32m      8\u001b[0m         \u001b[0mprint\u001b[0m\u001b[0;34m(\u001b[0m\u001b[0;34m\"trainning start!!\"\u001b[0m\u001b[0;34m)\u001b[0m\u001b[0;34m\u001b[0m\u001b[0m\n\u001b[0;32m----> 9\u001b[0;31m     \u001b[0md_loss_\u001b[0m\u001b[0;34m,\u001b[0m\u001b[0mg_loss_\u001b[0m\u001b[0;34m=\u001b[0m\u001b[0mtrain\u001b[0m\u001b[0;34m(\u001b[0m\u001b[0mepoch\u001b[0m\u001b[0;34m)\u001b[0m\u001b[0;34m\u001b[0m\u001b[0m\n\u001b[0m\u001b[1;32m     10\u001b[0m     \u001b[0mtotal_loss\u001b[0m\u001b[0;34m=\u001b[0m\u001b[0md_loss_\u001b[0m\u001b[0;34m+\u001b[0m\u001b[0mg_loss_\u001b[0m\u001b[0;34m\u001b[0m\u001b[0m\n\u001b[1;32m     11\u001b[0m     print(\"epoch [{}/{}],--d_loss:{:.4f}--g_loss:{:.4f}--total_loss:{:.4f}\".format(epoch,num_epoch,\n",
            "\u001b[0;32m<ipython-input-19-7759a6a44e8b>\u001b[0m in \u001b[0;36mtrain\u001b[0;34m(epoch)\u001b[0m\n\u001b[1;32m     27\u001b[0m \u001b[0;34m\u001b[0m\u001b[0m\n\u001b[1;32m     28\u001b[0m         \u001b[0mfake_image\u001b[0m\u001b[0;34m=\u001b[0m\u001b[0mG\u001b[0m\u001b[0;34m(\u001b[0m\u001b[0mdata_lr\u001b[0m\u001b[0;34m)\u001b[0m\u001b[0;34m\u001b[0m\u001b[0m\n\u001b[0;32m---> 29\u001b[0;31m         \u001b[0mD_fake\u001b[0m\u001b[0;34m=\u001b[0m\u001b[0mD\u001b[0m\u001b[0;34m(\u001b[0m\u001b[0mfake_image\u001b[0m\u001b[0;34m)\u001b[0m\u001b[0;34m\u001b[0m\u001b[0m\n\u001b[0m\u001b[1;32m     30\u001b[0m         \u001b[0mD_fake_loss\u001b[0m\u001b[0;34m=\u001b[0m\u001b[0md_loss\u001b[0m\u001b[0;34m(\u001b[0m\u001b[0mD_fake\u001b[0m\u001b[0;34m,\u001b[0m\u001b[0my_fake\u001b[0m\u001b[0;34m)\u001b[0m\u001b[0;34m\u001b[0m\u001b[0m\n\u001b[1;32m     31\u001b[0m \u001b[0;34m\u001b[0m\u001b[0m\n",
            "\u001b[0;32m/usr/local/lib/python3.6/dist-packages/torch/nn/modules/module.py\u001b[0m in \u001b[0;36m__call__\u001b[0;34m(self, *input, **kwargs)\u001b[0m\n\u001b[1;32m    489\u001b[0m             \u001b[0mresult\u001b[0m \u001b[0;34m=\u001b[0m \u001b[0mself\u001b[0m\u001b[0;34m.\u001b[0m\u001b[0m_slow_forward\u001b[0m\u001b[0;34m(\u001b[0m\u001b[0;34m*\u001b[0m\u001b[0minput\u001b[0m\u001b[0;34m,\u001b[0m \u001b[0;34m**\u001b[0m\u001b[0mkwargs\u001b[0m\u001b[0;34m)\u001b[0m\u001b[0;34m\u001b[0m\u001b[0m\n\u001b[1;32m    490\u001b[0m         \u001b[0;32melse\u001b[0m\u001b[0;34m:\u001b[0m\u001b[0;34m\u001b[0m\u001b[0m\n\u001b[0;32m--> 491\u001b[0;31m             \u001b[0mresult\u001b[0m \u001b[0;34m=\u001b[0m \u001b[0mself\u001b[0m\u001b[0;34m.\u001b[0m\u001b[0mforward\u001b[0m\u001b[0;34m(\u001b[0m\u001b[0;34m*\u001b[0m\u001b[0minput\u001b[0m\u001b[0;34m,\u001b[0m \u001b[0;34m**\u001b[0m\u001b[0mkwargs\u001b[0m\u001b[0;34m)\u001b[0m\u001b[0;34m\u001b[0m\u001b[0m\n\u001b[0m\u001b[1;32m    492\u001b[0m         \u001b[0;32mfor\u001b[0m \u001b[0mhook\u001b[0m \u001b[0;32min\u001b[0m \u001b[0mself\u001b[0m\u001b[0;34m.\u001b[0m\u001b[0m_forward_hooks\u001b[0m\u001b[0;34m.\u001b[0m\u001b[0mvalues\u001b[0m\u001b[0;34m(\u001b[0m\u001b[0;34m)\u001b[0m\u001b[0;34m:\u001b[0m\u001b[0;34m\u001b[0m\u001b[0m\n\u001b[1;32m    493\u001b[0m             \u001b[0mhook_result\u001b[0m \u001b[0;34m=\u001b[0m \u001b[0mhook\u001b[0m\u001b[0;34m(\u001b[0m\u001b[0mself\u001b[0m\u001b[0;34m,\u001b[0m \u001b[0minput\u001b[0m\u001b[0;34m,\u001b[0m \u001b[0mresult\u001b[0m\u001b[0;34m)\u001b[0m\u001b[0;34m\u001b[0m\u001b[0m\n",
            "\u001b[0;32m<ipython-input-14-a4d105e79710>\u001b[0m in \u001b[0;36mforward\u001b[0;34m(self, input_image)\u001b[0m\n\u001b[1;32m     44\u001b[0m         \u001b[0mbatch_size\u001b[0m\u001b[0;34m=\u001b[0m\u001b[0minput_image\u001b[0m\u001b[0;34m.\u001b[0m\u001b[0msize\u001b[0m\u001b[0;34m(\u001b[0m\u001b[0;34m)\u001b[0m\u001b[0;34m[\u001b[0m\u001b[0;36m0\u001b[0m\u001b[0;34m]\u001b[0m\u001b[0;34m\u001b[0m\u001b[0m\n\u001b[1;32m     45\u001b[0m \u001b[0;34m\u001b[0m\u001b[0m\n\u001b[0;32m---> 46\u001b[0;31m         \u001b[0mconv\u001b[0m\u001b[0;34m=\u001b[0m\u001b[0mself\u001b[0m\u001b[0;34m.\u001b[0m\u001b[0mconv_layers\u001b[0m\u001b[0;34m(\u001b[0m\u001b[0minput_image\u001b[0m\u001b[0;34m)\u001b[0m\u001b[0;34m\u001b[0m\u001b[0m\n\u001b[0m\u001b[1;32m     47\u001b[0m         \u001b[0mreshape\u001b[0m\u001b[0;34m=\u001b[0m\u001b[0mconv\u001b[0m\u001b[0;34m.\u001b[0m\u001b[0mview\u001b[0m\u001b[0;34m(\u001b[0m\u001b[0mbatch_size\u001b[0m\u001b[0;34m,\u001b[0m\u001b[0;34m-\u001b[0m\u001b[0;36m1\u001b[0m\u001b[0;34m)\u001b[0m\u001b[0;34m\u001b[0m\u001b[0m\n\u001b[1;32m     48\u001b[0m         \u001b[0moutput\u001b[0m\u001b[0;34m=\u001b[0m\u001b[0mself\u001b[0m\u001b[0;34m.\u001b[0m\u001b[0mdense_layer\u001b[0m\u001b[0;34m(\u001b[0m\u001b[0mreshape\u001b[0m\u001b[0;34m)\u001b[0m\u001b[0;34m\u001b[0m\u001b[0m\n",
            "\u001b[0;32m/usr/local/lib/python3.6/dist-packages/torch/nn/modules/module.py\u001b[0m in \u001b[0;36m__call__\u001b[0;34m(self, *input, **kwargs)\u001b[0m\n\u001b[1;32m    489\u001b[0m             \u001b[0mresult\u001b[0m \u001b[0;34m=\u001b[0m \u001b[0mself\u001b[0m\u001b[0;34m.\u001b[0m\u001b[0m_slow_forward\u001b[0m\u001b[0;34m(\u001b[0m\u001b[0;34m*\u001b[0m\u001b[0minput\u001b[0m\u001b[0;34m,\u001b[0m \u001b[0;34m**\u001b[0m\u001b[0mkwargs\u001b[0m\u001b[0;34m)\u001b[0m\u001b[0;34m\u001b[0m\u001b[0m\n\u001b[1;32m    490\u001b[0m         \u001b[0;32melse\u001b[0m\u001b[0;34m:\u001b[0m\u001b[0;34m\u001b[0m\u001b[0m\n\u001b[0;32m--> 491\u001b[0;31m             \u001b[0mresult\u001b[0m \u001b[0;34m=\u001b[0m \u001b[0mself\u001b[0m\u001b[0;34m.\u001b[0m\u001b[0mforward\u001b[0m\u001b[0;34m(\u001b[0m\u001b[0;34m*\u001b[0m\u001b[0minput\u001b[0m\u001b[0;34m,\u001b[0m \u001b[0;34m**\u001b[0m\u001b[0mkwargs\u001b[0m\u001b[0;34m)\u001b[0m\u001b[0;34m\u001b[0m\u001b[0m\n\u001b[0m\u001b[1;32m    492\u001b[0m         \u001b[0;32mfor\u001b[0m \u001b[0mhook\u001b[0m \u001b[0;32min\u001b[0m \u001b[0mself\u001b[0m\u001b[0;34m.\u001b[0m\u001b[0m_forward_hooks\u001b[0m\u001b[0;34m.\u001b[0m\u001b[0mvalues\u001b[0m\u001b[0;34m(\u001b[0m\u001b[0;34m)\u001b[0m\u001b[0;34m:\u001b[0m\u001b[0;34m\u001b[0m\u001b[0m\n\u001b[1;32m    493\u001b[0m             \u001b[0mhook_result\u001b[0m \u001b[0;34m=\u001b[0m \u001b[0mhook\u001b[0m\u001b[0;34m(\u001b[0m\u001b[0mself\u001b[0m\u001b[0;34m,\u001b[0m \u001b[0minput\u001b[0m\u001b[0;34m,\u001b[0m \u001b[0mresult\u001b[0m\u001b[0;34m)\u001b[0m\u001b[0;34m\u001b[0m\u001b[0m\n",
            "\u001b[0;32m/usr/local/lib/python3.6/dist-packages/torch/nn/modules/container.py\u001b[0m in \u001b[0;36mforward\u001b[0;34m(self, input)\u001b[0m\n\u001b[1;32m     89\u001b[0m     \u001b[0;32mdef\u001b[0m \u001b[0mforward\u001b[0m\u001b[0;34m(\u001b[0m\u001b[0mself\u001b[0m\u001b[0;34m,\u001b[0m \u001b[0minput\u001b[0m\u001b[0;34m)\u001b[0m\u001b[0;34m:\u001b[0m\u001b[0;34m\u001b[0m\u001b[0m\n\u001b[1;32m     90\u001b[0m         \u001b[0;32mfor\u001b[0m \u001b[0mmodule\u001b[0m \u001b[0;32min\u001b[0m \u001b[0mself\u001b[0m\u001b[0;34m.\u001b[0m\u001b[0m_modules\u001b[0m\u001b[0;34m.\u001b[0m\u001b[0mvalues\u001b[0m\u001b[0;34m(\u001b[0m\u001b[0;34m)\u001b[0m\u001b[0;34m:\u001b[0m\u001b[0;34m\u001b[0m\u001b[0m\n\u001b[0;32m---> 91\u001b[0;31m             \u001b[0minput\u001b[0m \u001b[0;34m=\u001b[0m \u001b[0mmodule\u001b[0m\u001b[0;34m(\u001b[0m\u001b[0minput\u001b[0m\u001b[0;34m)\u001b[0m\u001b[0;34m\u001b[0m\u001b[0m\n\u001b[0m\u001b[1;32m     92\u001b[0m         \u001b[0;32mreturn\u001b[0m \u001b[0minput\u001b[0m\u001b[0;34m\u001b[0m\u001b[0m\n\u001b[1;32m     93\u001b[0m \u001b[0;34m\u001b[0m\u001b[0m\n",
            "\u001b[0;32m/usr/local/lib/python3.6/dist-packages/torch/nn/modules/module.py\u001b[0m in \u001b[0;36m__call__\u001b[0;34m(self, *input, **kwargs)\u001b[0m\n\u001b[1;32m    489\u001b[0m             \u001b[0mresult\u001b[0m \u001b[0;34m=\u001b[0m \u001b[0mself\u001b[0m\u001b[0;34m.\u001b[0m\u001b[0m_slow_forward\u001b[0m\u001b[0;34m(\u001b[0m\u001b[0;34m*\u001b[0m\u001b[0minput\u001b[0m\u001b[0;34m,\u001b[0m \u001b[0;34m**\u001b[0m\u001b[0mkwargs\u001b[0m\u001b[0;34m)\u001b[0m\u001b[0;34m\u001b[0m\u001b[0m\n\u001b[1;32m    490\u001b[0m         \u001b[0;32melse\u001b[0m\u001b[0;34m:\u001b[0m\u001b[0;34m\u001b[0m\u001b[0m\n\u001b[0;32m--> 491\u001b[0;31m             \u001b[0mresult\u001b[0m \u001b[0;34m=\u001b[0m \u001b[0mself\u001b[0m\u001b[0;34m.\u001b[0m\u001b[0mforward\u001b[0m\u001b[0;34m(\u001b[0m\u001b[0;34m*\u001b[0m\u001b[0minput\u001b[0m\u001b[0;34m,\u001b[0m \u001b[0;34m**\u001b[0m\u001b[0mkwargs\u001b[0m\u001b[0;34m)\u001b[0m\u001b[0;34m\u001b[0m\u001b[0m\n\u001b[0m\u001b[1;32m    492\u001b[0m         \u001b[0;32mfor\u001b[0m \u001b[0mhook\u001b[0m \u001b[0;32min\u001b[0m \u001b[0mself\u001b[0m\u001b[0;34m.\u001b[0m\u001b[0m_forward_hooks\u001b[0m\u001b[0;34m.\u001b[0m\u001b[0mvalues\u001b[0m\u001b[0;34m(\u001b[0m\u001b[0;34m)\u001b[0m\u001b[0;34m:\u001b[0m\u001b[0;34m\u001b[0m\u001b[0m\n\u001b[1;32m    493\u001b[0m             \u001b[0mhook_result\u001b[0m \u001b[0;34m=\u001b[0m \u001b[0mhook\u001b[0m\u001b[0;34m(\u001b[0m\u001b[0mself\u001b[0m\u001b[0;34m,\u001b[0m \u001b[0minput\u001b[0m\u001b[0;34m,\u001b[0m \u001b[0mresult\u001b[0m\u001b[0;34m)\u001b[0m\u001b[0;34m\u001b[0m\u001b[0m\n",
            "\u001b[0;32m/usr/local/lib/python3.6/dist-packages/torch/nn/modules/conv.py\u001b[0m in \u001b[0;36mforward\u001b[0;34m(self, input)\u001b[0m\n\u001b[1;32m    299\u001b[0m     \u001b[0;32mdef\u001b[0m \u001b[0mforward\u001b[0m\u001b[0;34m(\u001b[0m\u001b[0mself\u001b[0m\u001b[0;34m,\u001b[0m \u001b[0minput\u001b[0m\u001b[0;34m)\u001b[0m\u001b[0;34m:\u001b[0m\u001b[0;34m\u001b[0m\u001b[0m\n\u001b[1;32m    300\u001b[0m         return F.conv2d(input, self.weight, self.bias, self.stride,\n\u001b[0;32m--> 301\u001b[0;31m                         self.padding, self.dilation, self.groups)\n\u001b[0m\u001b[1;32m    302\u001b[0m \u001b[0;34m\u001b[0m\u001b[0m\n\u001b[1;32m    303\u001b[0m \u001b[0;34m\u001b[0m\u001b[0m\n",
            "\u001b[0;31mRuntimeError\u001b[0m: cuda runtime error (2) : out of memory at /pytorch/aten/src/THC/generic/THCStorage.cu:58"
          ]
        }
      ]
    },
    {
      "metadata": {
        "id": "VKBk2Sg-itkY",
        "colab_type": "text"
      },
      "cell_type": "markdown",
      "source": [
        ""
      ]
    },
    {
      "metadata": {
        "id": "nTEJcdr1bxpU",
        "colab_type": "text"
      },
      "cell_type": "markdown",
      "source": [
        ""
      ]
    },
    {
      "metadata": {
        "id": "lb5Zd15mCcH2",
        "colab_type": "code",
        "colab": {
          "base_uri": "https://localhost:8080/",
          "height": 326
        },
        "outputId": "df9e99bd-fcf5-42d9-843f-79af51d944a9"
      },
      "cell_type": "code",
      "source": [
        "!nvidia-smi"
      ],
      "execution_count": 2,
      "outputs": [
        {
          "output_type": "stream",
          "text": [
            "Sat Aug 25 05:55:08 2018       \r\n",
            "+-----------------------------------------------------------------------------+\r\n",
            "| NVIDIA-SMI 384.111                Driver Version: 384.111                   |\r\n",
            "|-------------------------------+----------------------+----------------------+\r\n",
            "| GPU  Name        Persistence-M| Bus-Id        Disp.A | Volatile Uncorr. ECC |\r\n",
            "| Fan  Temp  Perf  Pwr:Usage/Cap|         Memory-Usage | GPU-Util  Compute M. |\r\n",
            "|===============================+======================+======================|\r\n",
            "|   0  Tesla K80           Off  | 00000000:00:04.0 Off |                    0 |\r\n",
            "| N/A   29C    P8    30W / 149W |      1MiB / 11439MiB |      0%      Default |\r\n",
            "+-------------------------------+----------------------+----------------------+\r\n",
            "                                                                               \r\n",
            "+-----------------------------------------------------------------------------+\r\n",
            "| Processes:                                                       GPU Memory |\r\n",
            "|  GPU       PID   Type   Process name                             Usage      |\r\n",
            "|=============================================================================|\r\n",
            "|  No running processes found                                                 |\r\n",
            "+-----------------------------------------------------------------------------+\r\n"
          ],
          "name": "stdout"
        }
      ]
    },
    {
      "metadata": {
        "id": "EumpB3BDE_eQ",
        "colab_type": "code",
        "colab": {
          "base_uri": "https://localhost:8080/",
          "height": 377
        },
        "outputId": "5d601aa3-1265-4aa9-9a0d-7d43563812ab"
      },
      "cell_type": "code",
      "source": [
        "!nvidia-smi\n",
        "!ps aux | grep python"
      ],
      "execution_count": 23,
      "outputs": [
        {
          "output_type": "stream",
          "text": [
            "Sat Aug 25 05:42:15 2018       \r\n",
            "+-----------------------------------------------------------------------------+\r\n",
            "| NVIDIA-SMI 384.111                Driver Version: 384.111                   |\r\n",
            "|-------------------------------+----------------------+----------------------+\r\n",
            "| GPU  Name        Persistence-M| Bus-Id        Disp.A | Volatile Uncorr. ECC |\r\n",
            "| Fan  Temp  Perf  Pwr:Usage/Cap|         Memory-Usage | GPU-Util  Compute M. |\r\n",
            "|===============================+======================+======================|\r\n",
            "|   0  Tesla K80           Off  | 00000000:00:04.0 Off |                    0 |\r\n",
            "| N/A   36C    P0    69W / 149W |  11059MiB / 11439MiB |      0%      Default |\r\n",
            "+-------------------------------+----------------------+----------------------+\r\n",
            "                                                                               \r\n",
            "+-----------------------------------------------------------------------------+\r\n",
            "| Processes:                                                       GPU Memory |\r\n",
            "|  GPU       PID   Type   Process name                             Usage      |\r\n",
            "|=============================================================================|\r\n",
            "+-----------------------------------------------------------------------------+\n",
            "root        81  2.4  0.4 192680 62200 ?        Sl   04:18   2:03 /usr/bin/python2 /usr/local/bin/jupyter-notebook -y --no-browser --log-level=DEBUG --debug --NotebookApp.allow_origin=\"*\" --NotebookApp.log_format=\"%(message)s\" --NotebookApp.disable_check_xsrf=True --NotebookApp.token= --Session.key=\"\" --Session.keyfile=\"\" --ContentsManager.untitled_directory=\"Untitled Folder\" --ContentsManager.untitled_file=\"Untitled File\" --ContentsManager.untitled_notebook=\"Untitled Notebook\" --KernelManager.autorestart=True --MultiKernelManager.default_kernel_name=\"python2\" --ip=\"172.28.0.2\" --port=9000 --port-retries=0 --notebook-dir=\"/content\" --NotebookApp.base_url=/tun/m/gpu-247ket2sgtp5u/\n",
            "root     23166 55.0  0.0  33964  4796 pts/0    Ss+  05:42   0:01 /bin/sh -c ps aux | grep python\n",
            "root     23168  0.0  0.0  38200  5744 pts/0    S+   05:42   0:00 grep python\n",
            "root     26026  1.7 43.0 45216400 5736220 ?    Ssl  04:54   0:49 /usr/bin/python3 -m ipykernel_launcher -f /root/.local/share/jupyter/runtime/kernel-8409b37b-afe3-4a3f-995a-764e2300ea45.json\n"
          ],
          "name": "stdout"
        }
      ]
    },
    {
      "metadata": {
        "id": "vn9f4ifQFHPG",
        "colab_type": "code",
        "colab": {}
      },
      "cell_type": "code",
      "source": [
        "!kill -9 81"
      ],
      "execution_count": 0,
      "outputs": []
    },
    {
      "metadata": {
        "id": "NLSYjn1yTmx7",
        "colab_type": "code",
        "colab": {
          "base_uri": "https://localhost:8080/",
          "height": 289
        },
        "outputId": "314f8c9e-4419-48da-d23b-277c72f8d00d"
      },
      "cell_type": "code",
      "source": [
        "!ps aux|grep <username>|grep python|awk '{print $2}'|xargs kill"
      ],
      "execution_count": 25,
      "outputs": [
        {
          "output_type": "stream",
          "text": [
            "/bin/sh: 1: cannot open username: No such file\r\n",
            "\r\n",
            "Usage:\r\n",
            " kill [options] <pid> [...]\r\n",
            "\r\n",
            "Options:\r\n",
            " <pid> [...]            send signal to every <pid> listed\r\n",
            " -<signal>, -s, --signal <signal>\r\n",
            "                        specify the <signal> to be sent\r\n",
            " -l, --list=[<signal>]  list all signal names, or convert one to a name\r\n",
            " -L, --table            list all signal names in a nice table\r\n",
            "\r\n",
            " -h, --help     display this help and exit\r\n",
            " -V, --version  output version information and exit\r\n",
            "\r\n",
            "For more details see kill(1).\r\n"
          ],
          "name": "stdout"
        }
      ]
    },
    {
      "metadata": {
        "id": "cvfOVVkFT2sC",
        "colab_type": "code",
        "colab": {}
      },
      "cell_type": "code",
      "source": [
        ""
      ],
      "execution_count": 0,
      "outputs": []
    }
  ]
}