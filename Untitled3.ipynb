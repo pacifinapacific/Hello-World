{
  "nbformat": 4,
  "nbformat_minor": 0,
  "metadata": {
    "colab": {
      "name": "Untitled3.ipynb",
      "version": "0.3.2",
      "provenance": [],
      "include_colab_link": true
    },
    "kernelspec": {
      "name": "python3",
      "display_name": "Python 3"
    },
    "accelerator": "GPU"
  },
  "cells": [
    {
      "cell_type": "markdown",
      "metadata": {
        "id": "view-in-github",
        "colab_type": "text"
      },
      "source": [
        "<a href=\"https://colab.research.google.com/github/pacifinapacific/Hello-World/blob/master/Untitled3.ipynb\" target=\"_parent\"><img src=\"https://colab.research.google.com/assets/colab-badge.svg\" alt=\"Open In Colab\"/></a>"
      ]
    },
    {
      "metadata": {
        "id": "KpfGNWlsAtzF",
        "colab_type": "code",
        "colab": {
          "base_uri": "https://localhost:8080/",
          "height": 360
        },
        "outputId": "cb0578e3-5d93-499b-e828-df9212c1aac1"
      },
      "cell_type": "code",
      "source": [
        "#google-drive-ocamlfuseのインストール\n",
        "#https://github.com/astrada/google-drive-ocamlfuse\n",
        "!apt-get install -y -qq software-properties-common python-software-properties module-init-tools\n",
        "!add-apt-repository -y ppa:alessandro-strada/ppa 2>&1 > /dev/null\n",
        "!apt-get update -qq 2>&1 > /dev/null\n",
        "!apt-get -y install -qq google-drive-ocamlfuse fuse\n",
        "\n",
        "# Colab用のAuth token作成\n",
        "from google.colab import auth\n",
        "auth.authenticate_user()\n",
        "\n",
        "# Drive FUSE library用のcredential生成\n",
        "from oauth2client.client import GoogleCredentials\n",
        "creds = GoogleCredentials.get_application_default()\n",
        "import getpass\n",
        "!google-drive-ocamlfuse -headless -id={creds.client_id} -secret={creds.client_secret} < /dev/null 2>&1 | grep URL\n",
        "vcode = getpass.getpass()\n",
        "!echo {vcode} | google-drive-ocamlfuse -headless -id={creds.client_id} -secret={creds.client_secret}\n",
        "\n",
        "# drive/ を作り、そこにGoogle Driveをマウントする\n",
        "!mkdir -p drive\n",
        "!google-drive-ocamlfuse drive\n"
      ],
      "execution_count": 1,
      "outputs": [
        {
          "output_type": "stream",
          "text": [
            "E: Package 'python-software-properties' has no installation candidate\n",
            "Selecting previously unselected package libfuse2:amd64.\n",
            "(Reading database ... 22280 files and directories currently installed.)\n",
            "Preparing to unpack .../libfuse2_2.9.7-1ubuntu1_amd64.deb ...\n",
            "Unpacking libfuse2:amd64 (2.9.7-1ubuntu1) ...\n",
            "Selecting previously unselected package fuse.\n",
            "Preparing to unpack .../fuse_2.9.7-1ubuntu1_amd64.deb ...\n",
            "Unpacking fuse (2.9.7-1ubuntu1) ...\n",
            "Selecting previously unselected package google-drive-ocamlfuse.\n",
            "Preparing to unpack .../google-drive-ocamlfuse_0.7.0-0ubuntu1~ubuntu18.04.1_amd64.deb ...\n",
            "Unpacking google-drive-ocamlfuse (0.7.0-0ubuntu1~ubuntu18.04.1) ...\n",
            "Setting up libfuse2:amd64 (2.9.7-1ubuntu1) ...\n",
            "Processing triggers for libc-bin (2.27-3ubuntu1) ...\n",
            "Setting up fuse (2.9.7-1ubuntu1) ...\n",
            "Setting up google-drive-ocamlfuse (0.7.0-0ubuntu1~ubuntu18.04.1) ...\n",
            "Please, open the following URL in a web browser: https://accounts.google.com/o/oauth2/auth?client_id=32555940559.apps.googleusercontent.com&redirect_uri=urn%3Aietf%3Awg%3Aoauth%3A2.0%3Aoob&scope=https%3A%2F%2Fwww.googleapis.com%2Fauth%2Fdrive&response_type=code&access_type=offline&approval_prompt=force\n",
            "··········\n",
            "Please, open the following URL in a web browser: https://accounts.google.com/o/oauth2/auth?client_id=32555940559.apps.googleusercontent.com&redirect_uri=urn%3Aietf%3Awg%3Aoauth%3A2.0%3Aoob&scope=https%3A%2F%2Fwww.googleapis.com%2Fauth%2Fdrive&response_type=code&access_type=offline&approval_prompt=force\n",
            "Please enter the verification code: Access token retrieved correctly.\n"
          ],
          "name": "stdout"
        }
      ]
    },
    {
      "metadata": {
        "id": "1ctZCYrOAyed",
        "colab_type": "code",
        "colab": {
          "base_uri": "https://localhost:8080/",
          "height": 34
        },
        "outputId": "daf6093c-9850-4c0a-bedf-1f33b1821a80"
      },
      "cell_type": "code",
      "source": [
        "ls"
      ],
      "execution_count": 1,
      "outputs": [
        {
          "output_type": "stream",
          "text": [
            "\u001b[0m\u001b[01;34msample_data\u001b[0m/\n"
          ],
          "name": "stdout"
        }
      ]
    },
    {
      "metadata": {
        "id": "jortFqnFEwmz",
        "colab_type": "code",
        "colab": {
          "base_uri": "https://localhost:8080/",
          "height": 34
        },
        "outputId": "557c7861-d053-4770-8b99-69eebf8d1c44"
      },
      "cell_type": "code",
      "source": [
        "!pip install --upgrade pip\n",
        "!pip install -U -q PyDrive\n",
        "from pydrive.auth import GoogleAuth\n",
        "from pydrive.drive import GoogleDrive\n",
        "from google.colab import auth\n",
        "from oauth2client.client import GoogleCredentials\n",
        "\n",
        "auth.authenticate_user()\n",
        "gauth = GoogleAuth()\n",
        "gauth.credentials = GoogleCredentials.get_application_default()\n",
        "drive = GoogleDrive(gauth)\n",
        "\n",
        "\n",
        "id = \"****************\"\n",
        "downloaded = drive.CreateFile({'id': id})\n",
        "downloaded.GetContentFile('celeba.zip')"
      ],
      "execution_count": 3,
      "outputs": [
        {
          "output_type": "stream",
          "text": [
            "Requirement already up-to-date: pip in /usr/local/lib/python3.6/dist-packages (18.1)\n"
          ],
          "name": "stdout"
        }
      ]
    },
    {
      "metadata": {
        "id": "uGUmSNHLIMyd",
        "colab_type": "code",
        "colab": {
          "base_uri": "https://localhost:8080/",
          "height": 34
        },
        "outputId": "58da6b6e-1e8e-4eda-d2aa-961ef9e90a80"
      },
      "cell_type": "code",
      "source": [
        "ls\n"
      ],
      "execution_count": 4,
      "outputs": [
        {
          "output_type": "stream",
          "text": [
            "adc.json  celeba.zip  \u001b[0m\u001b[01;34mdrive\u001b[0m/  \u001b[01;34msample_data\u001b[0m/\n"
          ],
          "name": "stdout"
        }
      ]
    },
    {
      "metadata": {
        "id": "5bYhv9gKIRQC",
        "colab_type": "code",
        "colab": {
          "base_uri": "https://localhost:8080/",
          "height": 34
        },
        "outputId": "f11925b3-7d1d-4f8d-b529-5dda3901a6e9"
      },
      "cell_type": "code",
      "source": [
        ""
      ],
      "execution_count": 6,
      "outputs": [
        {
          "output_type": "stream",
          "text": [
            "unzip:  cannot find or open celeba-alligned.zip, celeba-alligned.zip.zip or celeba-alligned.zip.ZIP.\n"
          ],
          "name": "stdout"
        }
      ]
    },
    {
      "metadata": {
        "id": "zVctxPdzK0-Z",
        "colab_type": "code",
        "colab": {}
      },
      "cell_type": "code",
      "source": [
        "!unzip -q celeba.zip"
      ],
      "execution_count": 0,
      "outputs": []
    },
    {
      "metadata": {
        "id": "rhY5pTZeMo4P",
        "colab_type": "code",
        "colab": {
          "base_uri": "https://localhost:8080/",
          "height": 136
        },
        "outputId": "b1a5b3e7-bf61-4881-9817-0e22964e9c70"
      },
      "cell_type": "code",
      "source": [
        ""
      ],
      "execution_count": 88,
      "outputs": [
        {
          "output_type": "stream",
          "text": [
            "Uninstalling torchvision-0.2.1:\n",
            "  Would remove:\n",
            "    /usr/local/lib/python3.6/dist-packages/torchvision-0.2.1.dist-info/*\n",
            "    /usr/local/lib/python3.6/dist-packages/torchvision/*\n",
            "Proceed (y/n)? y\n",
            "  Successfully uninstalled torchvision-0.2.1\n",
            "0.4.0\n"
          ],
          "name": "stdout"
        }
      ]
    },
    {
      "metadata": {
        "id": "C6HoUn1FNfm_",
        "colab_type": "code",
        "colab": {
          "base_uri": "https://localhost:8080/",
          "height": 88
        },
        "outputId": "ef9f48f3-974c-4edf-c3b2-6c2e4d05d645"
      },
      "cell_type": "code",
      "source": [
        "from os import path\n",
        "from wheel.pep425tags import get_abbr_impl, get_impl_ver, get_abi_tag\n",
        "platform = '{}{}-{}'.format(get_abbr_impl(), get_impl_ver(), get_abi_tag())\n",
        "\n",
        "accelerator = 'cu80' if path.exists('/opt/bin/nvidia-smi') else 'cpu'\n",
        "\n",
        "!pip install -q http://download.pytorch.org/whl/{accelerator}/torch-0.4.1-{platform}-linux_x86_64.whl torchvision\n",
        "import torch\n",
        "print(torch.__version__)\n",
        "print(torch.cuda.is_available())"
      ],
      "execution_count": 6,
      "outputs": [
        {
          "output_type": "stream",
          "text": [
            "tcmalloc: large alloc 1073750016 bytes == 0x57a42000 @  0x7f6482dd02a4 0x594e17 0x626104 0x51190a 0x4f5277 0x510c78 0x5119bd 0x4f5277 0x4f3338 0x510fb0 0x5119bd 0x4f5277 0x4f3338 0x510fb0 0x5119bd 0x4f5277 0x4f3338 0x510fb0 0x5119bd 0x4f6070 0x510c78 0x5119bd 0x4f5277 0x4f3338 0x510fb0 0x5119bd 0x4f6070 0x4f3338 0x510fb0 0x5119bd 0x4f6070\n",
            "0.4.1\n",
            "True\n"
          ],
          "name": "stdout"
        }
      ]
    },
    {
      "metadata": {
        "id": "tMUbMNnRNtPv",
        "colab_type": "code",
        "colab": {
          "base_uri": "https://localhost:8080/",
          "height": 749
        },
        "outputId": "c144663d-bd40-4ebf-838e-f26b8dc0380a"
      },
      "cell_type": "code",
      "source": [
        "!pip install Pillow==4.0.0\n",
        "!pip install PIL\n",
        "!pip install image\n",
        "import PIL.image"
      ],
      "execution_count": 7,
      "outputs": [
        {
          "output_type": "stream",
          "text": [
            "Collecting Pillow==4.0.0\n",
            "\u001b[?25l  Downloading https://files.pythonhosted.org/packages/37/e8/b3fbf87b0188d22246678f8cd61e23e31caa1769ebc06f1664e2e5fe8a17/Pillow-4.0.0-cp36-cp36m-manylinux1_x86_64.whl (5.6MB)\n",
            "\u001b[K    100% |████████████████████████████████| 5.6MB 1.6MB/s \n",
            "\u001b[?25hRequirement already satisfied: olefile in /usr/local/lib/python3.6/dist-packages (from Pillow==4.0.0) (0.46)\n",
            "\u001b[31mtorchvision 0.2.1 has requirement pillow>=4.1.1, but you'll have pillow 4.0.0 which is incompatible.\u001b[0m\n",
            "Installing collected packages: Pillow\n",
            "  Found existing installation: Pillow 5.3.0\n",
            "    Uninstalling Pillow-5.3.0:\n",
            "      Successfully uninstalled Pillow-5.3.0\n",
            "Successfully installed Pillow-4.0.0\n",
            "Collecting PIL\n",
            "\u001b[31m  Could not find a version that satisfies the requirement PIL (from versions: )\u001b[0m\n",
            "\u001b[31mNo matching distribution found for PIL\u001b[0m\n",
            "Collecting image\n",
            "  Downloading https://files.pythonhosted.org/packages/0c/ec/51969468a8b87f631cc0e60a6bf1e5f6eec8ef3fd2ee45dc760d5a93b82a/image-1.5.27-py2.py3-none-any.whl\n",
            "Collecting django (from image)\n",
            "\u001b[?25l  Downloading https://files.pythonhosted.org/packages/32/ab/22530cc1b2114e6067eece94a333d6c749fa1c56a009f0721e51c181ea53/Django-2.1.2-py3-none-any.whl (7.3MB)\n",
            "\u001b[K    100% |████████████████████████████████| 7.3MB 5.2MB/s \n",
            "\u001b[?25hRequirement already satisfied: pillow in /usr/local/lib/python3.6/dist-packages (from image) (4.0.0)\n",
            "Requirement already satisfied: pytz in /usr/local/lib/python3.6/dist-packages (from django->image) (2018.6)\n",
            "Requirement already satisfied: olefile in /usr/local/lib/python3.6/dist-packages (from pillow->image) (0.46)\n",
            "Installing collected packages: django, image\n",
            "Successfully installed django-2.1.2 image-1.5.27\n"
          ],
          "name": "stdout"
        },
        {
          "output_type": "error",
          "ename": "ModuleNotFoundError",
          "evalue": "ignored",
          "traceback": [
            "\u001b[0;31m---------------------------------------------------------------------------\u001b[0m",
            "\u001b[0;31mModuleNotFoundError\u001b[0m                       Traceback (most recent call last)",
            "\u001b[0;32m<ipython-input-7-4e6ae191e9e6>\u001b[0m in \u001b[0;36m<module>\u001b[0;34m()\u001b[0m\n\u001b[1;32m      2\u001b[0m \u001b[0mget_ipython\u001b[0m\u001b[0;34m(\u001b[0m\u001b[0;34m)\u001b[0m\u001b[0;34m.\u001b[0m\u001b[0msystem\u001b[0m\u001b[0;34m(\u001b[0m\u001b[0;34m'pip install PIL'\u001b[0m\u001b[0;34m)\u001b[0m\u001b[0;34m\u001b[0m\u001b[0m\n\u001b[1;32m      3\u001b[0m \u001b[0mget_ipython\u001b[0m\u001b[0;34m(\u001b[0m\u001b[0;34m)\u001b[0m\u001b[0;34m.\u001b[0m\u001b[0msystem\u001b[0m\u001b[0;34m(\u001b[0m\u001b[0;34m'pip install image'\u001b[0m\u001b[0;34m)\u001b[0m\u001b[0;34m\u001b[0m\u001b[0m\n\u001b[0;32m----> 4\u001b[0;31m \u001b[0;32mimport\u001b[0m \u001b[0mPIL\u001b[0m\u001b[0;34m.\u001b[0m\u001b[0mimage\u001b[0m\u001b[0;34m\u001b[0m\u001b[0m\n\u001b[0m",
            "\u001b[0;31mModuleNotFoundError\u001b[0m: No module named 'PIL.image'",
            "",
            "\u001b[0;31m---------------------------------------------------------------------------\u001b[0;32m\nNOTE: If your import is failing due to a missing package, you can\nmanually install dependencies using either !pip or !apt.\n\nTo view examples of installing some common dependencies, click the\n\"Open Examples\" button below.\n\u001b[0;31m---------------------------------------------------------------------------\u001b[0m\n"
          ]
        }
      ]
    },
    {
      "metadata": {
        "id": "TSU--olOOUiV",
        "colab_type": "code",
        "colab": {
          "base_uri": "https://localhost:8080/",
          "height": 51
        },
        "outputId": "93607608-3e44-49e7-922d-45df1322a6a9"
      },
      "cell_type": "code",
      "source": [
        "%cd img_align_celeba\n",
        "#!cp -r  lfw-deepfunneled ~"
      ],
      "execution_count": 8,
      "outputs": [
        {
          "output_type": "stream",
          "text": [
            "[Errno 2] No such file or directory: 'img_align_celeba'\n",
            "/content\n"
          ],
          "name": "stdout"
        }
      ]
    },
    {
      "metadata": {
        "id": "V0c5IL1VOhDf",
        "colab_type": "code",
        "colab": {
          "base_uri": "https://localhost:8080/",
          "height": 202
        },
        "outputId": "699688de-8dab-4703-f3da-5fe7f7ed7f72"
      },
      "cell_type": "code",
      "source": [
        "if not os.path.exists(\"dataset\"):\n",
        "    os.mkdir(\"dataset\")\n",
        "!cp -r  img_align_celeba dataset/"
      ],
      "execution_count": 8,
      "outputs": [
        {
          "output_type": "error",
          "ename": "NameError",
          "evalue": "ignored",
          "traceback": [
            "\u001b[0;31m---------------------------------------------------------------------------\u001b[0m",
            "\u001b[0;31mNameError\u001b[0m                                 Traceback (most recent call last)",
            "\u001b[0;32m<ipython-input-8-9c666958f9a0>\u001b[0m in \u001b[0;36m<module>\u001b[0;34m()\u001b[0m\n\u001b[0;32m----> 1\u001b[0;31m \u001b[0;32mif\u001b[0m \u001b[0;32mnot\u001b[0m \u001b[0mos\u001b[0m\u001b[0;34m.\u001b[0m\u001b[0mpath\u001b[0m\u001b[0;34m.\u001b[0m\u001b[0mexists\u001b[0m\u001b[0;34m(\u001b[0m\u001b[0;34m\"dataset\"\u001b[0m\u001b[0;34m)\u001b[0m\u001b[0;34m:\u001b[0m\u001b[0;34m\u001b[0m\u001b[0m\n\u001b[0m\u001b[1;32m      2\u001b[0m     \u001b[0mos\u001b[0m\u001b[0;34m.\u001b[0m\u001b[0mmkdir\u001b[0m\u001b[0;34m(\u001b[0m\u001b[0;34m\"dataset\"\u001b[0m\u001b[0;34m)\u001b[0m\u001b[0;34m\u001b[0m\u001b[0m\n\u001b[1;32m      3\u001b[0m \u001b[0mget_ipython\u001b[0m\u001b[0;34m(\u001b[0m\u001b[0;34m)\u001b[0m\u001b[0;34m.\u001b[0m\u001b[0msystem\u001b[0m\u001b[0;34m(\u001b[0m\u001b[0;34m'cp -r  img_align_celeba dataset/'\u001b[0m\u001b[0;34m)\u001b[0m\u001b[0;34m\u001b[0m\u001b[0m\n",
            "\u001b[0;31mNameError\u001b[0m: name 'os' is not defined"
          ]
        }
      ]
    },
    {
      "metadata": {
        "id": "7dZpbD6dOwfI",
        "colab_type": "code",
        "colab": {
          "base_uri": "https://localhost:8080/",
          "height": 34
        },
        "outputId": "b9bd88e5-3ca5-4c63-b692-89de22cc047b"
      },
      "cell_type": "code",
      "source": [
        "ls"
      ],
      "execution_count": 9,
      "outputs": [
        {
          "output_type": "stream",
          "text": [
            "adc.json  \u001b[0m\u001b[01;34mceleba\u001b[0m/  celeba.zip  \u001b[01;34mdrive\u001b[0m/  \u001b[01;34m__MACOSX\u001b[0m/  \u001b[01;34msample_data\u001b[0m/\n"
          ],
          "name": "stdout"
        }
      ]
    },
    {
      "metadata": {
        "id": "Bda3MLxbN3Jr",
        "colab_type": "code",
        "colab": {
          "base_uri": "https://localhost:8080/",
          "height": 34
        },
        "outputId": "54a8dc95-d51e-4a16-c744-c3d3fe094865"
      },
      "cell_type": "code",
      "source": [
        "import torchvision.transforms as transforms\n",
        "from torch.utils.data import DataLoader\n",
        "from torchvision.datasets import ImageFolder\n",
        "import torch.nn as nn\n",
        "import torch\n",
        "import os\n",
        "import torch.utils.data\n",
        "import torch.optim as optim\n",
        "import matplotlib.pyplot as plt\n",
        "from torch.nn import functional as F\n",
        "import numpy as np\n",
        "from torchvision.utils import save_image\n",
        "%matplotlib inline\n",
        "from torchvision.models.vgg import vgg16\n",
        "cuda = torch.cuda.is_available()\n",
        "if cuda:\n",
        "    print('cuda is available!')\n",
        "\n",
        "if not os.path.exists(\"drive/save_image\"):\n",
        "    os.mkdir(\"drive/save_image\")\n",
        "if not os.path.exists(\"dataset\"):\n",
        "    os.mkdir(\"dataset\")\n",
        "if not os.path.exists(\"drive/asset\"):\n",
        "    os.mkdir(\"drive/asset\")"
      ],
      "execution_count": 63,
      "outputs": [
        {
          "output_type": "stream",
          "text": [
            "cuda is available!\n"
          ],
          "name": "stdout"
        }
      ]
    },
    {
      "metadata": {
        "id": "yuEkS4ByNoSH",
        "colab_type": "code",
        "colab": {}
      },
      "cell_type": "code",
      "source": [
        "train_data=ImageFolder(\"celeba\",\n",
        "                        transform=transforms.Compose([ \n",
        "                        transforms.Resize(size=(128,128)),\n",
        "                        transforms.ToTensor()])\n",
        "                        )\n",
        "batch_size = 32\n",
        "train_loader = DataLoader(train_data, batch_size, shuffle=True, num_workers=4)\n",
        "#test_loader = DataLoader(test_data, batch_size, shuffle=False, num_workers=4)"
      ],
      "execution_count": 0,
      "outputs": []
    },
    {
      "metadata": {
        "id": "TULOEi-jPOEY",
        "colab_type": "code",
        "colab": {
          "base_uri": "https://localhost:8080/",
          "height": 319
        },
        "outputId": "ce3cb72b-a59a-4338-dd47-9930ebc843e6"
      },
      "cell_type": "code",
      "source": [
        "print(len(train_loader))\n",
        "images=iter(train_loader).next()\n",
        "image=images[0][0]\n",
        "print(image.size())\n",
        "image_np=image.numpy()\n",
        "image_np=np.transpose(image_np,(1,2,0))\n",
        "plt.imshow(image_np)"
      ],
      "execution_count": 201,
      "outputs": [
        {
          "output_type": "stream",
          "text": [
            "6332\n",
            "torch.Size([3, 128, 128])\n"
          ],
          "name": "stdout"
        },
        {
          "output_type": "execute_result",
          "data": {
            "text/plain": [
              "<matplotlib.image.AxesImage at 0x7f52dd1da400>"
            ]
          },
          "metadata": {
            "tags": []
          },
          "execution_count": 201
        },
        {
          "output_type": "display_data",
          "data": {
            "image/png": "[encoded data removed]",
            "text/plain": [
              "<matplotlib.figure.Figure at 0x7f52dd3efeb8>"
            ]
          },
          "metadata": {
            "tags": []
          }
        }
      ]
    },
    {
      "metadata": {
        "id": "kmis3fHpLmsu",
        "colab_type": "code",
        "colab": {}
      },
      "cell_type": "code",
      "source": [
        "\"\"\"\n",
        "Spectral Normalization from https://arxiv.org/abs/1802.05957\n",
        "\"\"\"\n",
        "import torch\n",
        "from torch.nn.functional import normalize\n",
        "from torch.nn.parameter import Parameter\n",
        "\n",
        "\n",
        "class SpectralNorm(object):\n",
        "\n",
        "    def __init__(self, name='weight', n_power_iterations=1, dim=0, eps=1e-12):\n",
        "        self.name = name\n",
        "        self.dim = dim\n",
        "        if n_power_iterations <= 0:\n",
        "            raise ValueError('Expected n_power_iterations to be positive, but '\n",
        "                             'got n_power_iterations={}'.format(n_power_iterations))\n",
        "        self.n_power_iterations = n_power_iterations\n",
        "        self.eps = eps\n",
        "\n",
        "    def compute_weight(self, module):\n",
        "        weight = getattr(module, self.name + '_orig')\n",
        "        u = getattr(module, self.name + '_u')\n",
        "        weight_mat = weight\n",
        "        if self.dim != 0:\n",
        "            # permute dim to front\n",
        "            weight_mat = weight_mat.permute(self.dim,\n",
        "                                            *[d for d in range(weight_mat.dim()) if d != self.dim])\n",
        "        height = weight_mat.size(0)\n",
        "        weight_mat = weight_mat.reshape(height, -1)\n",
        "        with torch.no_grad():\n",
        "            for _ in range(self.n_power_iterations):\n",
        "                # Spectral norm of weight equals to `u^T W v`, where `u` and `v`\n",
        "                # are the first left and right singular vectors.\n",
        "                # This power iteration produces approximations of `u` and `v`.\n",
        "                v = normalize(torch.matmul(weight_mat.t(), u), dim=0, eps=self.eps)\n",
        "                u = normalize(torch.matmul(weight_mat, v), dim=0, eps=self.eps)\n",
        "\n",
        "        sigma = torch.dot(u, torch.matmul(weight_mat, v))\n",
        "        weight = weight / sigma\n",
        "        return weight, u\n",
        "\n",
        "    def remove(self, module):\n",
        "        weight = getattr(module, self.name)\n",
        "        delattr(module, self.name)\n",
        "        delattr(module, self.name + '_u')\n",
        "        delattr(module, self.name + '_orig')\n",
        "        module.register_parameter(self.name, torch.nn.Parameter(weight))\n",
        "\n",
        "    def __call__(self, module, inputs):\n",
        "        if module.training:\n",
        "            weight, u = self.compute_weight(module)\n",
        "            setattr(module, self.name, weight)\n",
        "            setattr(module, self.name + '_u', u)\n",
        "        else:\n",
        "            r_g = getattr(module, self.name + '_orig').requires_grad\n",
        "            getattr(module, self.name).detach_().requires_grad_(r_g)\n",
        "\n",
        "    @staticmethod\n",
        "    def apply(module, name, n_power_iterations, dim, eps):\n",
        "        fn = SpectralNorm(name, n_power_iterations, dim, eps)\n",
        "        weight = module._parameters[name]\n",
        "        height = weight.size(dim)\n",
        "\n",
        "        u = normalize(weight.new_empty(height).normal_(0, 1), dim=0, eps=fn.eps)\n",
        "        delattr(module, fn.name)\n",
        "        module.register_parameter(fn.name + \"_orig\", weight)\n",
        "        # We still need to assign weight back as fn.name because all sorts of\n",
        "        # things may assume that it exists, e.g., when initializing weights.\n",
        "        # However, we can't directly assign as it could be an nn.Parameter and\n",
        "        # gets added as a parameter. Instead, we register weight.data as a\n",
        "        # buffer, which will cause weight to be included in the state dict\n",
        "        # and also supports nn.init due to shared storage.\n",
        "        module.register_buffer(fn.name, weight.data)\n",
        "        module.register_buffer(fn.name + \"_u\", u)\n",
        "\n",
        "        module.register_forward_pre_hook(fn)\n",
        "        return fn\n",
        "\n",
        "\n",
        "def spectral_norm(module, name='weight', n_power_iterations=1, eps=1e-12, dim=None):\n",
        "    r\"\"\"Applies spectral normalization to a parameter in the given module.\n",
        "    .. math::\n",
        "         \\mathbf{W} = \\dfrac{\\mathbf{W}}{\\sigma(\\mathbf{W})} \\\\\n",
        "         \\sigma(\\mathbf{W}) = \\max_{\\mathbf{h}: \\mathbf{h} \\ne 0} \\dfrac{\\|\\mathbf{W} \\mathbf{h}\\|_2}{\\|\\mathbf{h}\\|_2}\n",
        "    Spectral normalization stabilizes the training of discriminators (critics)\n",
        "    in Generaive Adversarial Networks (GANs) by rescaling the weight tensor\n",
        "    with spectral norm :math:`\\sigma` of the weight matrix calculated using\n",
        "    power iteration method. If the dimension of the weight tensor is greater\n",
        "    than 2, it is reshaped to 2D in power iteration method to get spectral\n",
        "    norm. This is implemented via a hook that calculates spectral norm and\n",
        "    rescales weight before every :meth:`~Module.forward` call.\n",
        "    See `Spectral Normalization for Generative Adversarial Networks`_ .\n",
        "    .. _`Spectral Normalization for Generative Adversarial Networks`: https://arxiv.org/abs/1802.05957\n",
        "    Args:\n",
        "        module (nn.Module): containing module\n",
        "        name (str, optional): name of weight parameter\n",
        "        n_power_iterations (int, optional): number of power iterations to\n",
        "            calculate spectal norm\n",
        "        eps (float, optional): epsilon for numerical stability in\n",
        "            calculating norms\n",
        "        dim (int, optional): dimension corresponding to number of outputs,\n",
        "            the default is 0, except for modules that are instances of\n",
        "            ConvTranspose1/2/3d, when it is 1\n",
        "    Returns:\n",
        "        The original module with the spectal norm hook\n",
        "    Example::\n",
        "        >>> m = spectral_norm(nn.Linear(20, 40))\n",
        "        Linear (20 -> 40)\n",
        "        >>> m.weight_u.size()\n",
        "        torch.Size([20])\n",
        "    \"\"\"\n",
        "    if dim is None:\n",
        "        if isinstance(module, (torch.nn.ConvTranspose1d,\n",
        "                               torch.nn.ConvTranspose2d,\n",
        "                               torch.nn.ConvTranspose3d)):\n",
        "            dim = 1\n",
        "        else:\n",
        "            dim = 0\n",
        "    SpectralNorm.apply(module, name, n_power_iterations, dim, eps)\n",
        "    return module\n",
        "\n",
        "\n",
        "def remove_spectral_norm(module, name='weight'):\n",
        "    r\"\"\"Removes the spectral normalization reparameterization from a module.\n",
        "    Args:\n",
        "        module (nn.Module): containing module\n",
        "        name (str, optional): name of weight parameter\n",
        "    Example:\n",
        "        >>> m = spectral_norm(nn.Linear(40, 10))\n",
        "        >>> remove_spectral_norm(m)\n",
        "    \"\"\"\n",
        "    for k, hook in module._forward_pre_hooks.items():\n",
        "        if isinstance(hook, SpectralNorm) and hook.name == name:\n",
        "            hook.remove(module)\n",
        "            del module._forward_pre_hooks[k]\n",
        "            return module\n",
        "\n",
        "    raise ValueError(\"spectral_norm of '{}' not found in {}\".format(\n",
        "        name, module))\n",
        "\n",
        "spectralNorm=SpectralNorm()"
      ],
      "execution_count": 0,
      "outputs": []
    },
    {
      "metadata": {
        "id": "b8Y3aw44PQfG",
        "colab_type": "code",
        "colab": {}
      },
      "cell_type": "code",
      "source": [
        "class ResidualBlock_3_E(nn.Module):\n",
        "    def __init__(self,input_channel,output_channel):\n",
        "        super(ResidualBlock_3,self).__init__()\n",
        "        \n",
        "        self.residualblock_a=nn.Sequential(\n",
        "            nn.Conv2d(input_channel,output_channel,kernel_size=1,stride=1,padding=0),\n",
        "            nn.BatchNorm2d(output_channel),\n",
        "            nn.LeakyReLU())\n",
        "        \n",
        "        self.residualblock_b=nn.Sequential(\n",
        "            nn.Conv2d(input_channel,output_channel,kernel_size=3,stride=1,padding=1),\n",
        "            nn.BatchNorm2d(output_channel),\n",
        "            nn.LeakyReLU(),\n",
        "            nn.Conv2d(output_channel,output_channel,kernel_size=3,stride=1,padding=1),\n",
        "            nn.BatchNorm2d(output_channel))\n",
        "\n",
        "    def forward(self,x):\n",
        "        residual_a=self.residualblock_a(x)\n",
        "        residual_b=self.residualblock_b(x)\n",
        "        \n",
        "        return residual_a+residual_b"
      ],
      "execution_count": 0,
      "outputs": []
    },
    {
      "metadata": {
        "id": "4PgeeJN7PTdE",
        "colab_type": "code",
        "colab": {}
      },
      "cell_type": "code",
      "source": [
        "class ResidualBlock_2_E(nn.Module):\n",
        "    def __init__(self,input_channel):\n",
        "        super(ResidualBlock_2,self).__init__()\n",
        "\n",
        "        self.residualblock=nn.Sequential(\n",
        "            nn.Conv2d(input_channel,input_channel,kernel_size=3,stride=1,padding=1),\n",
        "            nn.BatchNorm2d(input_channel),\n",
        "            nn.LeakyReLU(),\n",
        "            nn.Conv2d(input_channel,input_channel,kernel_size=3,stride=1,padding=1),\n",
        "            nn.BatchNorm2d(input_channel))\n",
        "    def forward(self,x):\n",
        "        residual=self.residualblock(x)\n",
        "\n",
        "        return x+residual"
      ],
      "execution_count": 0,
      "outputs": []
    },
    {
      "metadata": {
        "id": "u7V3fR3yRWMX",
        "colab_type": "code",
        "colab": {}
      },
      "cell_type": "code",
      "source": [
        "class ResidualBlock_3_D(nn.Module):\n",
        "    def __init__(self,input_channel,output_channel):\n",
        "        super(ResidualBlock_3,self).__init__()\n",
        "        \n",
        "        self.residualblock_a=nn.Sequential(\n",
        "            nn.Conv2d(input_channel,output_channel,kernel_size=1,stride=1,padding=0),\n",
        "            nn.BatchNorm2d(output_channel),\n",
        "            nn.ReLU())\n",
        "        \n",
        "        self.residualblock_b=nn.Sequential(\n",
        "            nn.Conv2d(input_channel,output_channel,kernel_size=3,stride=1,padding=1),\n",
        "            nn.BatchNorm2d(output_channel),\n",
        "            nn.ReLU(),\n",
        "            nn.Conv2d(output_channel,output_channel,kernel_size=3,stride=1,padding=1),\n",
        "            nn.BatchNorm2d(output_channel))\n",
        "\n",
        "    def forward(self,x):\n",
        "        residual_a=self.residualblock_a(x)\n",
        "        residual_b=self.residualblock_b(x)\n",
        "        \n",
        "        return residual_a+residual_b"
      ],
      "execution_count": 0,
      "outputs": []
    },
    {
      "metadata": {
        "id": "S-nL5-OWRZUf",
        "colab_type": "code",
        "colab": {}
      },
      "cell_type": "code",
      "source": [
        "class ResidualBlock_2_D(nn.Module):\n",
        "    def __init__(self,input_channel):\n",
        "        super(ResidualBlock_2,self).__init__()\n",
        "\n",
        "        self.residualblock=nn.Sequential(\n",
        "            nn.Conv2d(input_channel,input_channel,kernel_size=3,stride=1,padding=1),\n",
        "            nn.BatchNorm2d(input_channel),\n",
        "            nn.ReLU(),\n",
        "            nn.Conv2d(input_channel,input_channel,kernel_size=3,stride=1,padding=1),\n",
        "            nn.BatchNorm2d(input_channel))\n",
        "    def forward(self,x):\n",
        "        residual=self.residualblock(x)\n",
        "\n",
        "        return x+residual"
      ],
      "execution_count": 0,
      "outputs": []
    },
    {
      "metadata": {
        "id": "JOcOoudUPVJ8",
        "colab_type": "code",
        "colab": {}
      },
      "cell_type": "code",
      "source": [
        "class Encoder(nn.Module):\n",
        "    def __init__(self):\n",
        "        super(Encoder,self).__init__()\n",
        "        #(3,128,128)\n",
        "        self.pre_layer=nn.Sequential(\n",
        "            nn.Conv2d(3,16,kernel_size=5,padding=2),\n",
        "            nn.LeakyReLU(),\n",
        "            nn.AvgPool2d(2,stride=2)#(16,64,64)\n",
        "        \n",
        "        )\n",
        "        self.residual_layer=nn.Sequential(\n",
        "            ResidualBlock_3(16,32),\n",
        "            nn.AvgPool2d(2,stride=2),#(32,32,32)\n",
        "            \n",
        "            ResidualBlock_3(32,64),\n",
        "            nn.AvgPool2d(2,stride=2),#(64,16,16)\n",
        "            \n",
        "            ResidualBlock_3(64,128),\n",
        "            nn.AvgPool2d(2,stride=2),#(128,8,8)\n",
        "            \n",
        "            ResidualBlock_3(128,256),\n",
        "            nn.AvgPool2d(2,stride=2),#(256,4,4)\n",
        "            #ResidualBlock_3(256,512),\n",
        "            #nn.AvgPool2d(2,stride=2),#(512,4,4),\n",
        "            \n",
        "            ResidualBlock_2(256) #(256,4,4)\n",
        "            \n",
        "             )\n",
        "        self.dense_layer=nn.Sequential(\n",
        "            nn.Linear(4096,512)\n",
        "        \n",
        "        )\n",
        "    def forward(self,x):\n",
        "        batch_size=x.size()[0]\n",
        "        pre=self.pre_layer(x)\n",
        "        res=self.residual_layer(pre).view(batch_size,4096)\n",
        "        out=self.dense_layer(res)\n",
        "        mean=out[:,:256]\n",
        "        logvar=out[:,256:]\n",
        "        \n",
        "        std=torch.exp(0.5*logvar)\n",
        "        noise=torch.randn((batch_size,256))\n",
        "        if cuda:\n",
        "            noise=noise.cuda()\n",
        "        z=mean+std*noise\n",
        "        \n",
        "        return mean,logvar,z\n",
        "    "
      ],
      "execution_count": 0,
      "outputs": []
    },
    {
      "metadata": {
        "id": "hdlepAykPXb2",
        "colab_type": "code",
        "colab": {}
      },
      "cell_type": "code",
      "source": [
        "class Generator(nn.Module):\n",
        "    def __init__(self):\n",
        "        super(Generator,self).__init__()\n",
        "        self.pre_layer=nn.Sequential(\n",
        "            nn.Linear(256,4096),\n",
        "            nn.ReLU()\n",
        "        )#(512,4,4)\n",
        "        self.residual_layer=nn.Sequential(\n",
        "            ResidualBlock_2(256),\n",
        "            nn.Upsample(scale_factor=2),#(256,8,8)\n",
        "            ResidualBlock_3(256,128),\n",
        "            nn.Upsample(scale_factor=2),#(128,16,16)\n",
        "            ResidualBlock_3(128,64),\n",
        "            nn.Upsample(scale_factor=2),#(64,32,32)\n",
        "            ResidualBlock_3(64,32),\n",
        "            nn.Upsample(scale_factor=2),#(32,64,64)\n",
        "            ResidualBlock_3(32,16),\n",
        "            nn.Upsample(scale_factor=2),#(16,128,128)\n",
        "            #ResidualBlock_3(32,16),\n",
        "            #nn.Upsample(scale_factor=2),#(16,256,256)\n",
        "            nn.Conv2d(16,3,kernel_size=5,padding=2), #(3,128,128)\n",
        "            nn.Sigmoid()\n",
        "        \n",
        "        )\n",
        "    def forward(self,x):\n",
        "        batch_size=x.size()[0]\n",
        "        pre=self.pre_layer(x).view(batch_size,256,4,4)\n",
        "        out=self.residual_layer(pre)\n",
        "        \n",
        "        return out"
      ],
      "execution_count": 0,
      "outputs": []
    },
    {
      "metadata": {
        "id": "bb4gxJZGPaqi",
        "colab_type": "code",
        "colab": {}
      },
      "cell_type": "code",
      "source": [
        "E=Encoder()\n",
        "G=Generator()\n",
        "\n",
        "if cuda:\n",
        "    E=E.cuda()\n",
        "    G=G.cuda()\n",
        "#e_param=torch.load(\"drive/asset/E_epoch3.pth\")\n",
        "#g_param=torch.load(\"drive/asset/G_epoch3.pth\")\n",
        "\n",
        "#G.load_state_dict(g_param)\n",
        "#E.load_state_dict(e_param)\n",
        "e_optimizer=optim.Adam(E.parameters(),lr=2e-4)\n",
        "g_optimizer=optim.Adam(G.parameters(),lr=2e-4)"
      ],
      "execution_count": 0,
      "outputs": []
    },
    {
      "metadata": {
        "id": "xGpEvps7iNp9",
        "colab_type": "text"
      },
      "cell_type": "markdown",
      "source": [
        ""
      ]
    },
    {
      "metadata": {
        "id": "cdLvwhk0PdJz",
        "colab_type": "code",
        "colab": {}
      },
      "cell_type": "code",
      "source": [
        "def AE_Loss(x_r,x):\n",
        "    \n",
        "    MSE=nn.MSELoss(size_average=False)\n",
        "    #MSE=nn.MSELoss()\n",
        "    loss=0.5*MSE(x_r,x)\n",
        "    \n",
        "    return loss"
      ],
      "execution_count": 0,
      "outputs": []
    },
    {
      "metadata": {
        "id": "3NZIGL5yPfz_",
        "colab_type": "code",
        "colab": {}
      },
      "cell_type": "code",
      "source": [
        "def REG_Loss(mean,logvar):\n",
        "    loss=-0.5*torch.sum(1+logvar-mean.pow(2)-logvar.exp())\n",
        "    #print(loss.size())\n",
        "    \n",
        "    return loss"
      ],
      "execution_count": 0,
      "outputs": []
    },
    {
      "metadata": {
        "id": "DgIwndhHPhYA",
        "colab_type": "code",
        "colab": {}
      },
      "cell_type": "code",
      "source": [
        "def train(epoch,batch_size=8,m=110,alpha=0.25,beta=0.0025):\n",
        "    E.train()\n",
        "    G.train()\n",
        "    \n",
        "    loss_e=0\n",
        "    loss_g=0\n",
        "    \n",
        "    for batch_idx,(x,_) in enumerate(train_loader):\n",
        "\n",
        "        if cuda:\n",
        "            x=x.cuda()\n",
        "        #E.zero_grad()\n",
        "        #G.zero_grad()\n",
        "        \n",
        "        mean,logvar,z=E(x)\n",
        "        z_p=torch.randn((batch_size,256))\n",
        "        if cuda:\n",
        "          z_p=z_p.cuda()\n",
        "          \n",
        "        x_r=G(z)\n",
        "        x_p=G(z_p)\n",
        "        e_optimizer.zero_grad()\n",
        "        \n",
        "        L_AE=AE_Loss(x_r,x)\n",
        "        \n",
        "        \n",
        "        ng_xr=x_r.detach()\n",
        "        ng_xp=x_p.detach()\n",
        "        \n",
        "        mean_r,logvar_r,z_r=E(ng_xr)\n",
        "        mean_pp,logvar_pp,z_pp=E(ng_xp)\n",
        "        \n",
        "        L_REG_z=REG_Loss(mean,logvar)\n",
        "        L_REG_r=REG_Loss(mean_r,logvar_r)\n",
        "        L_REG_pp=REG_Loss(mean_pp,logvar_pp)\n",
        "        #print(L_REG_z)\n",
        "        \n",
        "        L_Eadv=L_REG_z+alpha*(relu(m-L_REG_r)+relu(m-L_REG_pp))\n",
        "       \n",
        "        E_Loss=L_Eadv+beta*L_AE\n",
        "        \n",
        "        #E_Loss.backward()\n",
        "        E_Loss.backward(retain_graph=True)\n",
        "        \n",
        "        e_optimizer.step()\n",
        "        \n",
        "        loss_e+=E_Loss.data[0]\n",
        "        \n",
        "        g_optimizer.zero_grad()\n",
        "        \n",
        "        \n",
        "        mean_r,logvar_r,z_r=E(x_r)\n",
        "        mean_pp,logvar_pp,z_pp=E(x_p)\n",
        "        \n",
        "        L_REG_r_g=REG_Loss(mean_r,logvar_r)\n",
        "        L_REG_pp_g=REG_Loss(mean_pp,logvar_pp)\n",
        "        L_AE=AE_Loss(x_r,x)\n",
        "        \n",
        "        L_Gadv=alpha*(L_REG_r_g+L_REG_pp_g)\n",
        "        \n",
        "        G_Loss=L_Gadv+beta*L_AE\n",
        "        G_Loss.backward()\n",
        "        g_optimizer.step()\n",
        "        \n",
        "        #print(G_Loss.data[0],E_Loss.data[0])\n",
        "        #print(L_REG_r.data[0],L_REG_pp.data[0],L_AE.data[0]*0.05)\n",
        "        \n",
        "        loss_g+=G_Loss.data[0]\n",
        "        \n",
        "        loss_g/=len(train_loader)\n",
        "        loss_e/=len(train_loader)\n",
        "        \n",
        "        if batch_idx%50==0:\n",
        "            #print(G_Loss.data[0],E_Loss.data[0])\n",
        "            print(L_REG_z.data[0],L_REG_r.data[0],L_REG_pp.data[0],L_AE.data[0]*0.0025)\n",
        "            print(L_REG_r_g.data[0],L_REG_pp_g.data[0])\n",
        "            print(batch_idx)\n",
        "            G.eval()\n",
        "            E.eval()\n",
        "            print(E_Loss.data[0],G_Loss.data[0])\n",
        "            g_image=x_p.data.cpu()\n",
        "            decode_image=x_r.data.cpu()\n",
        "            \n",
        "            save_image(g_image,\"drive/data/g_epoch{}batch{}.png\".format(epoch,batch_idx))\n",
        "            save_image(decode_image,\"drive/data/d_epoch{}batch{}.png\".format(epoch,batch_idx))\n",
        "            print(\"save_image\")\n",
        "            \n",
        "            G.train()\n",
        "            E.train()\n",
        "        \n",
        "    return loss_g,loss_e\n",
        "        "
      ],
      "execution_count": 0,
      "outputs": []
    },
    {
      "metadata": {
        "id": "Mo1cPwcrPnHZ",
        "colab_type": "code",
        "colab": {
          "base_uri": "https://localhost:8080/",
          "height": 2279
        },
        "outputId": "849eab0f-87c7-4e70-944f-c3d7c04e19e2"
      },
      "cell_type": "code",
      "source": [
        "num_epoch=1000\n",
        "relu=nn.ReLU()\n",
        "\n",
        "for epoch in range(1,num_epoch+1):\n",
        "    print(epoch)\n",
        "    if epoch==1:\n",
        "        print(\"trainning start!!\")\n",
        "    g_loss_,e_loss_=train(epoch)\n",
        "    \n",
        "    if epoch%1==0:\n",
        "        \n",
        "        torch.save(G.state_dict(),\"drive/data/G_epoch{}.pth\".format(epoch))\n",
        "        torch.save(E.state_dict(),\"drive/data/E_epoch{}.pth\".format(epoch))"
      ],
      "execution_count": 222,
      "outputs": [
        {
          "output_type": "stream",
          "text": [
            "1\n",
            "trainning start!!\n"
          ],
          "name": "stdout"
        },
        {
          "output_type": "stream",
          "text": [
            "/usr/local/lib/python3.6/dist-packages/torch/nn/modules/upsampling.py:122: UserWarning: nn.Upsampling is deprecated. Use nn.functional.interpolate instead.\n",
            "  warnings.warn(\"nn.Upsampling is deprecated. Use nn.functional.interpolate instead.\")\n",
            "/usr/local/lib/python3.6/dist-packages/torch/nn/functional.py:52: UserWarning: size_average and reduce args will be deprecated, please use reduction='sum' instead.\n",
            "  warnings.warn(warning.format(ret))\n",
            "/usr/local/lib/python3.6/dist-packages/ipykernel_launcher.py:47: UserWarning: invalid index of a 0-dim tensor. This will be an error in PyTorch 0.5. Use tensor.item() to convert a 0-dim tensor to a Python number\n",
            "/usr/local/lib/python3.6/dist-packages/ipykernel_launcher.py:68: UserWarning: invalid index of a 0-dim tensor. This will be an error in PyTorch 0.5. Use tensor.item() to convert a 0-dim tensor to a Python number\n",
            "/usr/local/lib/python3.6/dist-packages/ipykernel_launcher.py:75: UserWarning: invalid index of a 0-dim tensor. This will be an error in PyTorch 0.5. Use tensor.item() to convert a 0-dim tensor to a Python number\n",
            "/usr/local/lib/python3.6/dist-packages/ipykernel_launcher.py:76: UserWarning: invalid index of a 0-dim tensor. This will be an error in PyTorch 0.5. Use tensor.item() to convert a 0-dim tensor to a Python number\n",
            "/usr/local/lib/python3.6/dist-packages/ipykernel_launcher.py:80: UserWarning: invalid index of a 0-dim tensor. This will be an error in PyTorch 0.5. Use tensor.item() to convert a 0-dim tensor to a Python number\n"
          ],
          "name": "stderr"
        },
        {
          "output_type": "stream",
          "text": [
            "tensor(1242.3446, device='cuda:0') tensor(1137.0909, device='cuda:0') tensor(308.7458, device='cuda:0') tensor(202.6573, device='cuda:0')\n",
            "tensor(869.5799, device='cuda:0') tensor(232.1732, device='cuda:0')\n",
            "0\n",
            "tensor(1445.0020, device='cuda:0') tensor(478.0956, device='cuda:0')\n",
            "save_image\n",
            "tensor(55.3169, device='cuda:0') tensor(103.1411, device='cuda:0') tensor(34.7117, device='cuda:0') tensor(143.9264, device='cuda:0')\n",
            "tensor(111.9648, device='cuda:0') tensor(37.0645, device='cuda:0')\n",
            "50\n",
            "tensor(219.7800, device='cuda:0') tensor(181.1837, device='cuda:0')\n",
            "save_image\n",
            "tensor(43.8089, device='cuda:0') tensor(100.1064, device='cuda:0') tensor(25.5690, device='cuda:0') tensor(164.4582, device='cuda:0')\n",
            "tensor(138.1662, device='cuda:0') tensor(35.2973, device='cuda:0')\n",
            "100\n",
            "tensor(231.8483, device='cuda:0') tensor(207.8241, device='cuda:0')\n",
            "save_image\n",
            "tensor(39.0184, device='cuda:0') tensor(142.1472, device='cuda:0') tensor(33.7569, device='cuda:0') tensor(169.8604, device='cuda:0')\n",
            "tensor(184.4350, device='cuda:0') tensor(44.4664, device='cuda:0')\n",
            "150\n",
            "tensor(227.9396, device='cuda:0') tensor(227.0857, device='cuda:0')\n",
            "save_image\n",
            "tensor(44.0102, device='cuda:0') tensor(94.9862, device='cuda:0') tensor(24.4238, device='cuda:0') tensor(155.8884, device='cuda:0')\n",
            "tensor(153.7313, device='cuda:0') tensor(38.9784, device='cuda:0')\n",
            "200\n",
            "tensor(225.0460, device='cuda:0') tensor(204.0658, device='cuda:0')\n",
            "save_image\n",
            "tensor(50.0939, device='cuda:0') tensor(164.9580, device='cuda:0') tensor(40.6734, device='cuda:0') tensor(164.7681, device='cuda:0')\n",
            "tensor(239.7814, device='cuda:0') tensor(61.0938, device='cuda:0')\n",
            "250\n",
            "tensor(232.1936, device='cuda:0') tensor(239.9869, device='cuda:0')\n",
            "save_image\n",
            "tensor(59.6513, device='cuda:0') tensor(122.7395, device='cuda:0') tensor(28.6300, device='cuda:0') tensor(149.9286, device='cuda:0')\n",
            "tensor(108.0438, device='cuda:0') tensor(25.5503, device='cuda:0')\n",
            "300\n",
            "tensor(229.9224, device='cuda:0') tensor(183.3271, device='cuda:0')\n",
            "save_image\n",
            "tensor(46.7158, device='cuda:0') tensor(154.0424, device='cuda:0') tensor(38.6194, device='cuda:0') tensor(172.1132, device='cuda:0')\n",
            "tensor(190.5337, device='cuda:0') tensor(48.1241, device='cuda:0')\n",
            "350\n",
            "tensor(236.6741, device='cuda:0') tensor(231.7777, device='cuda:0')\n",
            "save_image\n",
            "tensor(44.0537, device='cuda:0') tensor(311.9991, device='cuda:0') tensor(77.9595, device='cuda:0') tensor(201.3547, device='cuda:0')\n",
            "tensor(452.1006, device='cuda:0') tensor(114.5246, device='cuda:0')\n",
            "400\n",
            "tensor(253.4185, device='cuda:0') tensor(343.0110, device='cuda:0')\n",
            "save_image\n",
            "tensor(44.6292, device='cuda:0') tensor(124.4758, device='cuda:0') tensor(42.6123, device='cuda:0') tensor(224.4753, device='cuda:0')\n",
            "tensor(96.0896, device='cuda:0') tensor(33.2762, device='cuda:0')\n",
            "450\n",
            "tensor(285.9514, device='cuda:0') tensor(256.8168, device='cuda:0')\n",
            "save_image\n",
            "tensor(42.4214, device='cuda:0') tensor(177.7565, device='cuda:0') tensor(52.7212, device='cuda:0') tensor(261.1486, device='cuda:0')\n",
            "tensor(255.9279, device='cuda:0') tensor(76.0709, device='cuda:0')\n",
            "500\n",
            "tensor(317.8896, device='cuda:0') tensor(344.1483, device='cuda:0')\n",
            "save_image\n",
            "tensor(38.6759, device='cuda:0') tensor(63.5733, device='cuda:0') tensor(12.1676, device='cuda:0') tensor(258.0657, device='cuda:0')\n",
            "tensor(163.9406, device='cuda:0') tensor(33.6929, device='cuda:0')\n",
            "550\n",
            "tensor(332.8064, device='cuda:0') tensor(307.4741, device='cuda:0')\n",
            "save_image\n",
            "tensor(52.7897, device='cuda:0') tensor(204.0185, device='cuda:0') tensor(57.6958, device='cuda:0') tensor(223.5060, device='cuda:0')\n",
            "tensor(275.4005, device='cuda:0') tensor(78.4819, device='cuda:0')\n",
            "600\n",
            "tensor(289.3718, device='cuda:0') tensor(311.9766, device='cuda:0')\n",
            "save_image\n",
            "tensor(34.1935, device='cuda:0') tensor(178.8449, device='cuda:0') tensor(46.7866, device='cuda:0') tensor(216.5679, device='cuda:0')\n",
            "tensor(413.1158, device='cuda:0') tensor(107.1824, device='cuda:0')\n",
            "650\n",
            "tensor(266.5648, device='cuda:0') tensor(346.6425, device='cuda:0')\n",
            "save_image\n",
            "tensor(42.6023, device='cuda:0') tensor(419.1539, device='cuda:0') tensor(112.1337, device='cuda:0') tensor(185.5309, device='cuda:0')\n",
            "tensor(460.3557, device='cuda:0') tensor(123.2606, device='cuda:0')\n",
            "700\n",
            "tensor(228.1332, device='cuda:0') tensor(331.4350, device='cuda:0')\n",
            "save_image\n",
            "tensor(31.3014, device='cuda:0') tensor(140.3439, device='cuda:0') tensor(38.3470, device='cuda:0') tensor(143.2662, device='cuda:0')\n",
            "tensor(148.2151, device='cuda:0') tensor(40.9389, device='cuda:0')\n",
            "750\n",
            "tensor(192.4808, device='cuda:0') tensor(190.5547, device='cuda:0')\n",
            "save_image\n",
            "tensor(41.8027, device='cuda:0') tensor(161.8815, device='cuda:0') tensor(39.5135, device='cuda:0') tensor(169.7314, device='cuda:0')\n",
            "tensor(175.6538, device='cuda:0') tensor(43.4805, device='cuda:0')\n",
            "800\n",
            "tensor(229.1557, device='cuda:0') tensor(224.5150, device='cuda:0')\n",
            "save_image\n",
            "tensor(35.8985, device='cuda:0') tensor(83.7687, device='cuda:0') tensor(18.5193, device='cuda:0') tensor(266.9656, device='cuda:0')\n",
            "tensor(137.5803, device='cuda:0') tensor(30.1493, device='cuda:0')\n",
            "850\n",
            "tensor(332.2921, device='cuda:0') tensor(308.8980, device='cuda:0')\n"
          ],
          "name": "stdout"
        },
        {
          "output_type": "error",
          "ename": "OSError",
          "evalue": "ignored",
          "traceback": [
            "\u001b[0;31m---------------------------------------------------------------------------\u001b[0m",
            "\u001b[0;31mOSError\u001b[0m                                   Traceback (most recent call last)",
            "\u001b[0;32m<ipython-input-222-e81c79088761>\u001b[0m in \u001b[0;36m<module>\u001b[0;34m()\u001b[0m\n\u001b[1;32m      6\u001b[0m     \u001b[0;32mif\u001b[0m \u001b[0mepoch\u001b[0m\u001b[0;34m==\u001b[0m\u001b[0;36m1\u001b[0m\u001b[0;34m:\u001b[0m\u001b[0;34m\u001b[0m\u001b[0m\n\u001b[1;32m      7\u001b[0m         \u001b[0mprint\u001b[0m\u001b[0;34m(\u001b[0m\u001b[0;34m\"trainning start!!\"\u001b[0m\u001b[0;34m)\u001b[0m\u001b[0;34m\u001b[0m\u001b[0m\n\u001b[0;32m----> 8\u001b[0;31m     \u001b[0mg_loss_\u001b[0m\u001b[0;34m,\u001b[0m\u001b[0me_loss_\u001b[0m\u001b[0;34m=\u001b[0m\u001b[0mtrain\u001b[0m\u001b[0;34m(\u001b[0m\u001b[0mepoch\u001b[0m\u001b[0;34m)\u001b[0m\u001b[0;34m\u001b[0m\u001b[0m\n\u001b[0m\u001b[1;32m      9\u001b[0m \u001b[0;34m\u001b[0m\u001b[0m\n\u001b[1;32m     10\u001b[0m     \u001b[0;32mif\u001b[0m \u001b[0mepoch\u001b[0m\u001b[0;34m%\u001b[0m\u001b[0;36m1\u001b[0m\u001b[0;34m==\u001b[0m\u001b[0;36m0\u001b[0m\u001b[0;34m:\u001b[0m\u001b[0;34m\u001b[0m\u001b[0m\n",
            "\u001b[0;32m<ipython-input-221-49536611f4f8>\u001b[0m in \u001b[0;36mtrain\u001b[0;34m(epoch, batch_size, m, alpha, beta)\u001b[0m\n\u001b[1;32m     83\u001b[0m \u001b[0;34m\u001b[0m\u001b[0m\n\u001b[1;32m     84\u001b[0m             \u001b[0msave_image\u001b[0m\u001b[0;34m(\u001b[0m\u001b[0mg_image\u001b[0m\u001b[0;34m,\u001b[0m\u001b[0;34m\"drive/data/g_epoch{}batch{}.png\"\u001b[0m\u001b[0;34m.\u001b[0m\u001b[0mformat\u001b[0m\u001b[0;34m(\u001b[0m\u001b[0mepoch\u001b[0m\u001b[0;34m,\u001b[0m\u001b[0mbatch_idx\u001b[0m\u001b[0;34m)\u001b[0m\u001b[0;34m)\u001b[0m\u001b[0;34m\u001b[0m\u001b[0m\n\u001b[0;32m---> 85\u001b[0;31m             \u001b[0msave_image\u001b[0m\u001b[0;34m(\u001b[0m\u001b[0mdecode_image\u001b[0m\u001b[0;34m,\u001b[0m\u001b[0;34m\"drive/data/d_epoch{}batch{}.png\"\u001b[0m\u001b[0;34m.\u001b[0m\u001b[0mformat\u001b[0m\u001b[0;34m(\u001b[0m\u001b[0mepoch\u001b[0m\u001b[0;34m,\u001b[0m\u001b[0mbatch_idx\u001b[0m\u001b[0;34m)\u001b[0m\u001b[0;34m)\u001b[0m\u001b[0;34m\u001b[0m\u001b[0m\n\u001b[0m\u001b[1;32m     86\u001b[0m             \u001b[0mprint\u001b[0m\u001b[0;34m(\u001b[0m\u001b[0;34m\"save_image\"\u001b[0m\u001b[0;34m)\u001b[0m\u001b[0;34m\u001b[0m\u001b[0m\n\u001b[1;32m     87\u001b[0m \u001b[0;34m\u001b[0m\u001b[0m\n",
            "\u001b[0;32m/usr/local/lib/python3.6/dist-packages/torchvision/utils.py\u001b[0m in \u001b[0;36msave_image\u001b[0;34m(tensor, filename, nrow, padding, normalize, range, scale_each, pad_value)\u001b[0m\n\u001b[1;32m    102\u001b[0m     \u001b[0mndarr\u001b[0m \u001b[0;34m=\u001b[0m \u001b[0mgrid\u001b[0m\u001b[0;34m.\u001b[0m\u001b[0mmul\u001b[0m\u001b[0;34m(\u001b[0m\u001b[0;36m255\u001b[0m\u001b[0;34m)\u001b[0m\u001b[0;34m.\u001b[0m\u001b[0mclamp\u001b[0m\u001b[0;34m(\u001b[0m\u001b[0;36m0\u001b[0m\u001b[0;34m,\u001b[0m \u001b[0;36m255\u001b[0m\u001b[0;34m)\u001b[0m\u001b[0;34m.\u001b[0m\u001b[0mbyte\u001b[0m\u001b[0;34m(\u001b[0m\u001b[0;34m)\u001b[0m\u001b[0;34m.\u001b[0m\u001b[0mpermute\u001b[0m\u001b[0;34m(\u001b[0m\u001b[0;36m1\u001b[0m\u001b[0;34m,\u001b[0m \u001b[0;36m2\u001b[0m\u001b[0;34m,\u001b[0m \u001b[0;36m0\u001b[0m\u001b[0;34m)\u001b[0m\u001b[0;34m.\u001b[0m\u001b[0mcpu\u001b[0m\u001b[0;34m(\u001b[0m\u001b[0;34m)\u001b[0m\u001b[0;34m.\u001b[0m\u001b[0mnumpy\u001b[0m\u001b[0;34m(\u001b[0m\u001b[0;34m)\u001b[0m\u001b[0;34m\u001b[0m\u001b[0m\n\u001b[1;32m    103\u001b[0m     \u001b[0mim\u001b[0m \u001b[0;34m=\u001b[0m \u001b[0mImage\u001b[0m\u001b[0;34m.\u001b[0m\u001b[0mfromarray\u001b[0m\u001b[0;34m(\u001b[0m\u001b[0mndarr\u001b[0m\u001b[0;34m)\u001b[0m\u001b[0;34m\u001b[0m\u001b[0m\n\u001b[0;32m--> 104\u001b[0;31m     \u001b[0mim\u001b[0m\u001b[0;34m.\u001b[0m\u001b[0msave\u001b[0m\u001b[0;34m(\u001b[0m\u001b[0mfilename\u001b[0m\u001b[0;34m)\u001b[0m\u001b[0;34m\u001b[0m\u001b[0m\n\u001b[0m",
            "\u001b[0;32m/usr/local/lib/python3.6/dist-packages/PIL/Image.py\u001b[0m in \u001b[0;36msave\u001b[0;34m(self, fp, format, **params)\u001b[0m\n\u001b[1;32m   1730\u001b[0m             \u001b[0;31m# do what we can to clean up\u001b[0m\u001b[0;34m\u001b[0m\u001b[0;34m\u001b[0m\u001b[0m\n\u001b[1;32m   1731\u001b[0m             \u001b[0;32mif\u001b[0m \u001b[0mopen_fp\u001b[0m\u001b[0;34m:\u001b[0m\u001b[0;34m\u001b[0m\u001b[0m\n\u001b[0;32m-> 1732\u001b[0;31m                 \u001b[0mfp\u001b[0m\u001b[0;34m.\u001b[0m\u001b[0mclose\u001b[0m\u001b[0;34m(\u001b[0m\u001b[0;34m)\u001b[0m\u001b[0;34m\u001b[0m\u001b[0m\n\u001b[0m\u001b[1;32m   1733\u001b[0m \u001b[0;34m\u001b[0m\u001b[0m\n\u001b[1;32m   1734\u001b[0m     \u001b[0;32mdef\u001b[0m \u001b[0mseek\u001b[0m\u001b[0;34m(\u001b[0m\u001b[0mself\u001b[0m\u001b[0;34m,\u001b[0m \u001b[0mframe\u001b[0m\u001b[0;34m)\u001b[0m\u001b[0;34m:\u001b[0m\u001b[0;34m\u001b[0m\u001b[0m\n",
            "\u001b[0;31mOSError\u001b[0m: [Errno 5] Input/output error"
          ]
        }
      ]
    },
    {
      "metadata": {
        "id": "id1LeLwXcORH",
        "colab_type": "text"
      },
      "cell_type": "markdown",
      "source": [
        ""
      ]
    },
    {
      "metadata": {
        "id": "yRMR3PrvxePi",
        "colab_type": "code",
        "colab": {
          "base_uri": "https://localhost:8080/",
          "height": 102
        },
        "outputId": "dab58b4e-95a3-4609-a092-f576cb79820b"
      },
      "cell_type": "code",
      "source": [
        "ls drive"
      ],
      "execution_count": 41,
      "outputs": [
        {
          "output_type": "stream",
          "text": [
            "ls: cannot access 'drive/asset': No such file or directory\n",
            "ls: cannot access 'drive/save_image': No such file or directory\n",
            "asset                \u001b[0m\u001b[01;34mColab Notebooks\u001b[0m/  save_image           vae.pth\n",
            "celeba-alligned.zip  datasets.zip      SuperResolution.zip\n",
            "celeba.zip           loss_list.npy     test_loss_list.npy\n"
          ],
          "name": "stdout"
        }
      ]
    },
    {
      "metadata": {
        "id": "XZWnKcN4XF05",
        "colab_type": "code",
        "colab": {
          "base_uri": "https://localhost:8080/",
          "height": 289
        },
        "outputId": "6fac3b50-5ae5-4087-ba9f-994e54a83821"
      },
      "cell_type": "code",
      "source": [
        "!nvidia-smi"
      ],
      "execution_count": 29,
      "outputs": [
        {
          "output_type": "stream",
          "text": [
            "Mon Sep 10 12:02:26 2018       \n",
            "+-----------------------------------------------------------------------------+\n",
            "| NVIDIA-SMI 384.111                Driver Version: 384.111                   |\n",
            "|-------------------------------+----------------------+----------------------+\n",
            "| GPU  Name        Persistence-M| Bus-Id        Disp.A | Volatile Uncorr. ECC |\n",
            "| Fan  Temp  Perf  Pwr:Usage/Cap|         Memory-Usage | GPU-Util  Compute M. |\n",
            "|===============================+======================+======================|\n",
            "|   0  Tesla K80           Off  | 00000000:00:04.0 Off |                    0 |\n",
            "| N/A   40C    P0    55W / 149W |   4028MiB / 11439MiB |      0%      Default |\n",
            "+-------------------------------+----------------------+----------------------+\n",
            "                                                                               \n",
            "+-----------------------------------------------------------------------------+\n",
            "| Processes:                                                       GPU Memory |\n",
            "|  GPU       PID   Type   Process name                             Usage      |\n",
            "|=============================================================================|\n",
            "+-----------------------------------------------------------------------------+\n"
          ],
          "name": "stdout"
        }
      ]
    },
    {
      "metadata": {
        "id": "ifQFlaiRQOkS",
        "colab_type": "code",
        "colab": {
          "base_uri": "https://localhost:8080/",
          "height": 68
        },
        "outputId": "aa840178-1781-404e-8d09-cf1e4fcaf326"
      },
      "cell_type": "code",
      "source": [
        "test_input=torch.ones(1,3,256,256)\n",
        "model=Encoder()\n",
        "if cuda:\n",
        "    test_input=test_input.cuda()\n",
        "    model=model.cuda()\n",
        "mean,logvar,z=model(test_input)\n",
        "print(mean.size())\n",
        "print(logvar.size())\n",
        "print(z.size())\n"
      ],
      "execution_count": 85,
      "outputs": [
        {
          "output_type": "stream",
          "text": [
            "torch.Size([1, 512])\n",
            "torch.Size([1, 512])\n",
            "torch.Size([1, 512])\n"
          ],
          "name": "stdout"
        }
      ]
    },
    {
      "metadata": {
        "id": "DCsakb3FXvZQ",
        "colab_type": "code",
        "colab": {
          "base_uri": "https://localhost:8080/",
          "height": 34
        },
        "outputId": "3d08c626-780e-4deb-b44b-39f121e457c3"
      },
      "cell_type": "code",
      "source": [
        "test_input=torch.ones(1,512)\n",
        "model=Generator()\n",
        "if cuda:\n",
        "    test_input=test_input.cuda()\n",
        "    model=model.cuda()\n",
        "out=model(test_input)\n",
        "print(out.size())\n",
        "#torch.Size([1, 3, 256, 256])"
      ],
      "execution_count": 86,
      "outputs": [
        {
          "output_type": "stream",
          "text": [
            "torch.Size([1, 3, 256, 256])\n"
          ],
          "name": "stdout"
        }
      ]
    },
    {
      "metadata": {
        "id": "APGyd1qFX2VF",
        "colab_type": "code",
        "colab": {
          "base_uri": "https://localhost:8080/",
          "height": 289
        },
        "outputId": "21750dbc-e5b1-4fe2-aa8e-f95a9de60b4d"
      },
      "cell_type": "code",
      "source": [
        "!nvidia-smi"
      ],
      "execution_count": 100,
      "outputs": [
        {
          "output_type": "stream",
          "text": [
            "Sat Sep  8 13:36:06 2018       \n",
            "+-----------------------------------------------------------------------------+\n",
            "| NVIDIA-SMI 384.111                Driver Version: 384.111                   |\n",
            "|-------------------------------+----------------------+----------------------+\n",
            "| GPU  Name        Persistence-M| Bus-Id        Disp.A | Volatile Uncorr. ECC |\n",
            "| Fan  Temp  Perf  Pwr:Usage/Cap|         Memory-Usage | GPU-Util  Compute M. |\n",
            "|===============================+======================+======================|\n",
            "|   0  Tesla K80           Off  | 00000000:00:04.0 Off |                    0 |\n",
            "| N/A   68C    P0    73W / 149W |  11264MiB / 11439MiB |      0%      Default |\n",
            "+-------------------------------+----------------------+----------------------+\n",
            "                                                                               \n",
            "+-----------------------------------------------------------------------------+\n",
            "| Processes:                                                       GPU Memory |\n",
            "|  GPU       PID   Type   Process name                             Usage      |\n",
            "|=============================================================================|\n",
            "+-----------------------------------------------------------------------------+\n"
          ],
          "name": "stdout"
        }
      ]
    },
    {
      "metadata": {
        "id": "ulBcWscoZW40",
        "colab_type": "code",
        "colab": {
          "base_uri": "https://localhost:8080/",
          "height": 51
        },
        "outputId": "3eafc65e-5272-47b1-a4d6-88f57bbc4bd9"
      },
      "cell_type": "code",
      "source": [
        "ls"
      ],
      "execution_count": 75,
      "outputs": [
        {
          "output_type": "stream",
          "text": [
            "adc.json  \u001b[0m\u001b[01;34mceleba\u001b[0m/     \u001b[01;34mdataset\u001b[0m/  \u001b[01;34m__MACOSX\u001b[0m/     \u001b[01;34msave_image\u001b[0m/\n",
            "\u001b[01;34masset\u001b[0m/    celeba.zip  \u001b[01;34mdrive\u001b[0m/    \u001b[01;34msample_data\u001b[0m/\n"
          ],
          "name": "stdout"
        }
      ]
    },
    {
      "metadata": {
        "id": "6KQXdmV5qCUu",
        "colab_type": "code",
        "colab": {
          "base_uri": "https://localhost:8080/",
          "height": 170
        },
        "outputId": "c593054b-6b47-44a5-fa9f-4b467832f0e7"
      },
      "cell_type": "code",
      "source": [
        "import torchvision.transforms as transforms\n",
        "from torch.utils.data import DataLoader\n",
        "import torch.nn as nn\n",
        "import torch\n",
        "import os\n",
        "import torch.utils.data\n",
        "import torch.optim as optim\n",
        "from torchvision.datasets import MNIST\n",
        "import matplotlib.pyplot as plt\n",
        "from torch.nn import functional as F\n",
        "import numpy as np\n",
        "from torchvision.utils import save_image\n",
        "%matplotlib inline\n",
        "cuda = torch.cuda.is_available()\n",
        "if cuda:\n",
        "    print('cuda is available!')\n",
        "\n",
        "if not os.path.exists(\"save_image\"):\n",
        "    os.mkdir(\"save_image\")\n",
        "if not os.path.exists(\"dataset\"):\n",
        "    os.mkdir(\"dataset\")\n",
        "if not os.path.exists(\"asset\"):\n",
        "    os.mkdir(\"asset\")\n",
        "\n",
        "\n",
        "mnist_train=MNIST(\"dataset\",train=True,download=True, transform=transforms.ToTensor())\n",
        "mnist_test=MNIST(\"dataset\",train=False,download=True, transform=transforms.ToTensor())\n",
        "train_loader=DataLoader(mnist_train,batch_size=32,shuffle=True)\n",
        "test_loader=DataLoader(mnist_test,batch_size=32,shuffle=False)\n",
        "\n",
        "\n",
        "print(len(train_loader)) #60000/batch_size\n",
        "print(len(test_loader)) #10000/batch_size"
      ],
      "execution_count": 5,
      "outputs": [
        {
          "output_type": "stream",
          "text": [
            "cuda is available!\n",
            "Downloading http://yann.lecun.com/exdb/mnist/train-images-idx3-ubyte.gz\n",
            "Downloading http://yann.lecun.com/exdb/mnist/train-labels-idx1-ubyte.gz\n",
            "Downloading http://yann.lecun.com/exdb/mnist/t10k-images-idx3-ubyte.gz\n",
            "Downloading http://yann.lecun.com/exdb/mnist/t10k-labels-idx1-ubyte.gz\n",
            "Processing...\n",
            "Done!\n",
            "1875\n",
            "313\n"
          ],
          "name": "stdout"
        }
      ]
    },
    {
      "metadata": {
        "id": "G3BotyBUMvpY",
        "colab_type": "code",
        "colab": {
          "base_uri": "https://localhost:8080/",
          "height": 297
        },
        "outputId": "f62601df-f18e-4454-fa68-d5b31f2fff39"
      },
      "cell_type": "code",
      "source": [
        "data_iter=iter(train_loader)\n",
        "images,labels=data_iter.next()\n",
        "image=images[0].numpy() #(1,28,28)\n",
        "image=image.reshape(28,28)\n",
        "plt.imshow(image,cmap=\"gray\")\n",
        "plt.title(\"Label={}\".format(labels[0]))"
      ],
      "execution_count": 6,
      "outputs": [
        {
          "output_type": "execute_result",
          "data": {
            "text/plain": [
              "Text(0.5,1,'Label=7')"
            ]
          },
          "metadata": {
            "tags": []
          },
          "execution_count": 6
        },
        {
          "output_type": "display_data",
          "data": {
            "image/png": "[encoded data removed]",
            "text/plain": [
              "<matplotlib.figure.Figure at 0x7f29b216a898>"
            ]
          },
          "metadata": {
            "tags": []
          }
        }
      ]
    },
    {
      "metadata": {
        "id": "9chFbe32M2R5",
        "colab_type": "code",
        "colab": {}
      },
      "cell_type": "code",
      "source": [
        "class Encoder(nn.Module):\n",
        "    def __init__(self,input_channels,hidden_size):\n",
        "        super(Encoder,self).__init__()\n",
        "        self.input_channels=input_channels\n",
        "        self.hidden_size=hidden_size\n",
        "        #(1,28,28)\n",
        "        self.encode=nn.Sequential(\n",
        "\n",
        "            nn.Conv2d(self.input_channels,16,kernel_size=3,stride=2,padding=1),\n",
        "            nn.BatchNorm2d(16),\n",
        "            nn.ReLU(),\n",
        "            #(16,14,14)\n",
        "\n",
        "            nn.Conv2d(16,32,kernel_size=3,stride=2,padding=1),\n",
        "            nn.BatchNorm2d(32),\n",
        "            nn.ReLU(),\n",
        "            #(32,7,7)\n",
        "\n",
        "            nn.Conv2d(32,64,kernel_size=2,stride=2,padding=1),\n",
        "            nn.BatchNorm2d(64),\n",
        "            nn.ReLU())\n",
        "            #(64,4,4)\n",
        "        \n",
        "        self.mean=nn.Sequential(\n",
        "            nn.Linear(64*4*4,1024),\n",
        "            nn.BatchNorm1d(1024),\n",
        "            nn.ReLU(),\n",
        "            nn.Linear(1024,hidden_size))       \n",
        "        self.logvar=nn.Sequential(\n",
        "            nn.Linear(64*4*4,1024),\n",
        "            nn.BatchNorm1d(1024),\n",
        "            nn.ReLU(),\n",
        "            nn.Linear(1024,hidden_size))\n",
        "            \n",
        "    def forward(self,x):\n",
        "        batch_size=x.size()[0]\n",
        "        encoding=self.encode(x)\n",
        "        mean=self.mean(encoding.view(batch_size,-1))\n",
        "        logvar=self.logvar(encoding.view(batch_size,-1))\n",
        "        \n",
        "        noise=torch.randn((batch_size,32))\n",
        "        if cuda:\n",
        "          noise=noise.cuda()\n",
        "        std=logvar.mul(0.5).exp_()\n",
        "        \n",
        "        z=mean+std*noise\n",
        "        \n",
        "        return mean,logvar,z\n",
        "    "
      ],
      "execution_count": 0,
      "outputs": []
    },
    {
      "metadata": {
        "id": "Yf4plRuWNAW9",
        "colab_type": "code",
        "colab": {
          "base_uri": "https://localhost:8080/",
          "height": 34
        },
        "outputId": "dd631e9f-cf29-4650-de0c-e28aa675c96b"
      },
      "cell_type": "code",
      "source": [
        "test_input=torch.ones(32,1,28,28)\n",
        "test_input=test_input.cuda()\n",
        "encoder=Encoder(1,32)\n",
        "encoder=encoder.cuda()\n",
        "\n",
        "m,v,z=encoder(test_input)\n",
        "\n",
        "print(m.size(),v.size(),z.size())"
      ],
      "execution_count": 8,
      "outputs": [
        {
          "output_type": "stream",
          "text": [
            "torch.Size([32, 32]) torch.Size([32, 32]) torch.Size([32, 32])\n"
          ],
          "name": "stdout"
        }
      ]
    },
    {
      "metadata": {
        "id": "C4ZiI5BfNDYW",
        "colab_type": "code",
        "colab": {}
      },
      "cell_type": "code",
      "source": [
        "class Generator(nn.Module):\n",
        "    def __init__(self,hidden_size):\n",
        "        super(Generator,self).__init__()\n",
        "        self.hidden_size=hidden_size\n",
        "        \n",
        "        self.pre=nn.Sequential(\n",
        "            nn.Linear(hidden_size,64*4*4),\n",
        "            nn.BatchNorm1d(64*4*4),\n",
        "            nn.ReLU())\n",
        "        \n",
        "        self.decode=nn.Sequential(\n",
        "            #(64,4,4)\n",
        "            nn.ConvTranspose2d(64,32,kernel_size=3,stride=2,padding=1),\n",
        "            nn.BatchNorm2d(32),\n",
        "            nn.ReLU(),\n",
        "            #(32,7,7)\n",
        "            \n",
        "            nn.ConvTranspose2d(32,16,kernel_size=4,stride=2,padding=1),\n",
        "            nn.BatchNorm2d(16),\n",
        "            nn.ReLU(),\n",
        "            \n",
        "            #(16,14,14)\n",
        "            \n",
        "            nn.ConvTranspose2d(16,8,kernel_size=4,stride=2,padding=1),\n",
        "            nn.BatchNorm2d(8),\n",
        "            nn.ReLU(),\n",
        "            \n",
        "            #(8,28,28),\n",
        "            \n",
        "            nn.ConvTranspose2d(8,1,kernel_size=3,stride=1,padding=1),\n",
        "            nn.Sigmoid())\n",
        "        \n",
        "    def forward(self,code):\n",
        "        preprocess=self.pre(code)\n",
        "        preprocess=preprocess.view(-1,64,4,4)\n",
        "            \n",
        "        out=self.decode(preprocess)\n",
        "        return out"
      ],
      "execution_count": 0,
      "outputs": []
    },
    {
      "metadata": {
        "id": "D_JCD1JtNIvX",
        "colab_type": "code",
        "colab": {
          "base_uri": "https://localhost:8080/",
          "height": 34
        },
        "outputId": "0bb5538f-ba6a-4884-d764-d372e93eea6d"
      },
      "cell_type": "code",
      "source": [
        "test1=torch.ones(32,32)\n",
        "\n",
        "\n",
        "decoder=Generator(32)\n",
        "out=decoder(test1)        \n",
        "out.size()"
      ],
      "execution_count": 10,
      "outputs": [
        {
          "output_type": "execute_result",
          "data": {
            "text/plain": [
              "torch.Size([32, 1, 28, 28])"
            ]
          },
          "metadata": {
            "tags": []
          },
          "execution_count": 10
        }
      ]
    },
    {
      "metadata": {
        "id": "j_3cn_XqNUPo",
        "colab_type": "code",
        "colab": {}
      },
      "cell_type": "code",
      "source": [
        "E=Encoder(1,32)\n",
        "G=Generator(32)\n",
        "\n",
        "if cuda:\n",
        "    E=E.cuda()\n",
        "    G=G.cuda()\n",
        "e_optimizer=optim.Adam(E.parameters(),lr=2e-4)\n",
        "g_optimizer=optim.Adam(G.parameters(),lr=2e-4)"
      ],
      "execution_count": 0,
      "outputs": []
    },
    {
      "metadata": {
        "id": "LeDSFYoDPTXS",
        "colab_type": "code",
        "colab": {}
      },
      "cell_type": "code",
      "source": [
        "def AE_Loss(x_r,x):\n",
        "    \n",
        "    MSE=nn.MSELoss(size_average=False)\n",
        "    loss=0.5*MSE(x_r,x)\n",
        "    \n",
        "    return loss"
      ],
      "execution_count": 0,
      "outputs": []
    },
    {
      "metadata": {
        "id": "nWB5xVKZPeIw",
        "colab_type": "code",
        "colab": {}
      },
      "cell_type": "code",
      "source": [
        "def REG_Loss(mean,logvar):\n",
        "    loss=-0.5*torch.sum(1+logvar-mean.pow(2)-logvar.exp())\n",
        "    \n",
        "    return loss"
      ],
      "execution_count": 0,
      "outputs": []
    },
    {
      "metadata": {
        "id": "65KQbcl4PhUR",
        "colab_type": "code",
        "colab": {}
      },
      "cell_type": "code",
      "source": [
        "def train(epoch,batch_size=8,m=120,alpha=0.5,beta=0.05):\n",
        "    E.train()\n",
        "    G.train()\n",
        "    \n",
        "    loss_e=0\n",
        "    loss_g=0\n",
        "    \n",
        "    for batch_idx,(x,_) in enumerate(train_loader):\n",
        "\n",
        "        if cuda:\n",
        "            x=x.cuda()\n",
        "        #E.zero_grad()\n",
        "        #G.zero_grad()\n",
        "        \n",
        "        e_optimizer.zero_grad()\n",
        "        mean,logvar,z=E(x)\n",
        "        z_p=torch.randn((batch_size,512))\n",
        "        if cuda:\n",
        "          z_p=z_p.cuda()\n",
        "          \n",
        "        x_r=G(z)\n",
        "        x_p=G(z_p)\n",
        "        \n",
        "        L_AE=AE_Loss(x_r,x)\n",
        "        \n",
        "        \n",
        "        ng_xr=x_r.detach()\n",
        "        ng_xp=x_p.detach()\n",
        "        \n",
        "        mean_r,logvar_r,z_r=E(ng_xr)\n",
        "        mean_pp,logvar_pp,z_pp=E(ng_xp)\n",
        "        \n",
        "        L_REG_z=REG_Loss(mean,logvar)\n",
        "        L_REG_r=REG_Loss(mean_r,logvar_r)\n",
        "        L_REG_pp=REG_Loss(mean_pp,logvar_pp)\n",
        "        \n",
        "        L_Eadv=L_REG_z+alpha*(relu(m-L_REG_r)+relu(m-L_REG_pp))\n",
        "       \n",
        "        E_Loss=L_Eadv+beta*L_AE\n",
        "        \n",
        "        #E_Loss.backward()\n",
        "        E_Loss.backward(retain_graph=True)\n",
        "        \n",
        "        e_optimizer.step()\n",
        "        \n",
        "        loss_e+=E_Loss.data[0]\n",
        "        \n",
        "        g_optimizer.zero_grad()\n",
        "        \n",
        "        x_r=G(z)\n",
        "        x_p=G(z_p)\n",
        "        \n",
        "        L_AE=AE_Loss(x_r,x)\n",
        "        \n",
        "        mean_r,logvar_r,z_r=E(x_r)\n",
        "        mean_pp,logvar_pp,z_pp=E(x_p)\n",
        "        \n",
        "        L_REG_r=REG_Loss(mean_r,logvar_r)\n",
        "        L_REG_pp=REG_Loss(mean_pp,logvar_pp)\n",
        "        \n",
        "        L_Gadv=alpha*(L_REG_r+L_REG_pp)\n",
        "        \n",
        "        G_Loss=L_Gadv+beta*L_AE\n",
        "        G_Loss.backward()\n",
        "        g_optimizer.step()\n",
        "        \n",
        "        \n",
        "        #print(E_Loss.data[0],G_Loss.data[0])\n",
        "        \n",
        "        loss_g+=G_Loss.data[0]\n",
        "        \n",
        "        loss_g/=len(train_loader)\n",
        "        loss_e/=len(train_loader)\n",
        "        \n",
        "        if batch_idx%50==0:\n",
        "            print(batch_idx)\n",
        "            print(E_Loss.data[0],G_Loss.data[0])\n",
        "            g_image=x_p.data.cpu()\n",
        "            decode_image=x_r.data.cpu()\n",
        "            \n",
        "            save_image(g_image,\"drive/dataset/epoch_g_{}{}.png\".format(epoch,batch_idx))\n",
        "            save_image(decode_image,\"drive/dataset/epoch_decode_{}{}.png\".format(epoch,batch_idx))\n",
        "            print(\"save_image\")\n",
        "        \n",
        "    return loss_g,loss_e\n",
        "        "
      ],
      "execution_count": 0,
      "outputs": []
    },
    {
      "metadata": {
        "id": "RLDd-APgPnLa",
        "colab_type": "code",
        "colab": {
          "base_uri": "https://localhost:8080/",
          "height": 11221
        },
        "outputId": "91f8496d-2e61-4e60-845e-16b8ff7bad02"
      },
      "cell_type": "code",
      "source": [
        "num_epoch=1000\n",
        "relu=nn.ReLU()\n",
        "\n",
        "for epoch in range(1,num_epoch+1):\n",
        "    print(epoch)\n",
        "    if epoch==1:\n",
        "        print(\"trainning start!!\")\n",
        "    g_loss_,e_loss_=train(epoch)\n",
        "    \n",
        "    if epoch%1==0:\n",
        "        \n",
        "        torch.save(G.state_dict(),\"drive/asset/G_epoch{}.pth\".format(epoch))\n",
        "        torch.save(E.state_dict(),\"drive/asset/E_epoch{}.pth\".format(epoch))"
      ],
      "execution_count": 65,
      "outputs": [
        {
          "output_type": "stream",
          "text": [
            "1\n",
            "trainning start!!\n"
          ],
          "name": "stdout"
        },
        {
          "output_type": "stream",
          "text": [
            "/usr/local/lib/python3.6/dist-packages/ipykernel_launcher.py:46: UserWarning: invalid index of a 0-dim tensor. This will be an error in PyTorch 0.5. Use tensor.item() to convert a 0-dim tensor to a Python number\n",
            "/usr/local/lib/python3.6/dist-packages/ipykernel_launcher.py:70: UserWarning: invalid index of a 0-dim tensor. This will be an error in PyTorch 0.5. Use tensor.item() to convert a 0-dim tensor to a Python number\n",
            "/usr/local/lib/python3.6/dist-packages/ipykernel_launcher.py:77: UserWarning: invalid index of a 0-dim tensor. This will be an error in PyTorch 0.5. Use tensor.item() to convert a 0-dim tensor to a Python number\n"
          ],
          "name": "stderr"
        },
        {
          "output_type": "stream",
          "text": [
            "0\n",
            "tensor(1254.5020, device='cuda:0') tensor(1213.5909, device='cuda:0')\n",
            "save_image\n",
            "50\n",
            "tensor(1316.3320, device='cuda:0') tensor(1270.1068, device='cuda:0')\n",
            "save_image\n",
            "100\n",
            "tensor(1472.1310, device='cuda:0') tensor(1441.7568, device='cuda:0')\n",
            "save_image\n",
            "150\n",
            "tensor(1613.0225, device='cuda:0') tensor(1534.0941, device='cuda:0')\n",
            "save_image\n",
            "200\n",
            "tensor(1730.4324, device='cuda:0') tensor(1653.6735, device='cuda:0')\n",
            "save_image\n",
            "250\n",
            "tensor(1902.2227, device='cuda:0') tensor(1773.4968, device='cuda:0')\n",
            "save_image\n",
            "300\n",
            "tensor(1594.2557, device='cuda:0') tensor(1504.1588, device='cuda:0')\n",
            "save_image\n",
            "350\n",
            "tensor(1565.8208, device='cuda:0') tensor(1496.9915, device='cuda:0')\n",
            "save_image\n",
            "400\n",
            "tensor(1436.0928, device='cuda:0') tensor(1345.8634, device='cuda:0')\n",
            "save_image\n",
            "450\n",
            "tensor(1477.1625, device='cuda:0') tensor(1382.1052, device='cuda:0')\n",
            "save_image\n",
            "500\n",
            "tensor(1489.2712, device='cuda:0') tensor(1391.6409, device='cuda:0')\n",
            "save_image\n",
            "550\n",
            "tensor(1600.9092, device='cuda:0') tensor(1476.7830, device='cuda:0')\n",
            "save_image\n",
            "600\n",
            "tensor(1523.0756, device='cuda:0') tensor(1405.1636, device='cuda:0')\n",
            "save_image\n",
            "650\n",
            "tensor(1348.0762, device='cuda:0') tensor(1236.8778, device='cuda:0')\n",
            "save_image\n",
            "700\n",
            "tensor(1394.5735, device='cuda:0') tensor(1306.6854, device='cuda:0')\n",
            "save_image\n",
            "750\n",
            "tensor(1644.0425, device='cuda:0') tensor(1540.6581, device='cuda:0')\n",
            "save_image\n",
            "800\n",
            "tensor(1278.6582, device='cuda:0') tensor(1197.7908, device='cuda:0')\n",
            "save_image\n",
            "850\n",
            "tensor(1965.3691, device='cuda:0') tensor(1863.9001, device='cuda:0')\n",
            "save_image\n",
            "900\n",
            "tensor(1491.0554, device='cuda:0') tensor(1389.6635, device='cuda:0')\n",
            "save_image\n",
            "950\n",
            "tensor(1380.8618, device='cuda:0') tensor(1270.1075, device='cuda:0')\n",
            "save_image\n",
            "1000\n",
            "tensor(1456.6736, device='cuda:0') tensor(1368.9761, device='cuda:0')\n",
            "save_image\n",
            "1050\n",
            "tensor(1211.8185, device='cuda:0') tensor(1128.3759, device='cuda:0')\n",
            "save_image\n",
            "1100\n",
            "tensor(1176.0708, device='cuda:0') tensor(1134.1906, device='cuda:0')\n",
            "save_image\n",
            "1150\n",
            "tensor(1567.1769, device='cuda:0') tensor(1486.2250, device='cuda:0')\n",
            "save_image\n",
            "1200\n",
            "tensor(1441.9543, device='cuda:0') tensor(1369.5176, device='cuda:0')\n",
            "save_image\n",
            "1250\n",
            "tensor(1355.2019, device='cuda:0') tensor(1264.9396, device='cuda:0')\n",
            "save_image\n",
            "1300\n",
            "tensor(1543.6941, device='cuda:0') tensor(1443.0931, device='cuda:0')\n",
            "save_image\n",
            "1350\n",
            "tensor(1526.4482, device='cuda:0') tensor(1420.9019, device='cuda:0')\n",
            "save_image\n",
            "1400\n",
            "tensor(1364.7001, device='cuda:0') tensor(1290.2747, device='cuda:0')\n",
            "save_image\n",
            "1450\n",
            "tensor(1635.7804, device='cuda:0') tensor(1558.8953, device='cuda:0')\n",
            "save_image\n",
            "1500\n",
            "tensor(1487.1145, device='cuda:0') tensor(1392.6904, device='cuda:0')\n",
            "save_image\n",
            "1550\n",
            "tensor(1426.7861, device='cuda:0') tensor(1352.6342, device='cuda:0')\n",
            "save_image\n",
            "1600\n",
            "tensor(1737.1003, device='cuda:0') tensor(1627.8989, device='cuda:0')\n",
            "save_image\n",
            "2\n",
            "0\n",
            "tensor(1510.5177, device='cuda:0') tensor(1408.2672, device='cuda:0')\n",
            "save_image\n",
            "50\n",
            "tensor(1351.6210, device='cuda:0') tensor(1275.7771, device='cuda:0')\n",
            "save_image\n",
            "100\n",
            "tensor(1662.5544, device='cuda:0') tensor(1566.6394, device='cuda:0')\n",
            "save_image\n",
            "150\n",
            "tensor(1258.3452, device='cuda:0') tensor(1181.0387, device='cuda:0')\n",
            "save_image\n",
            "200\n",
            "tensor(1680.6836, device='cuda:0') tensor(1554.6261, device='cuda:0')\n",
            "save_image\n",
            "250\n",
            "tensor(1495.1738, device='cuda:0') tensor(1444.5870, device='cuda:0')\n",
            "save_image\n",
            "300\n",
            "tensor(1400.1302, device='cuda:0') tensor(1315.7827, device='cuda:0')\n",
            "save_image\n",
            "350\n",
            "tensor(1650.8904, device='cuda:0') tensor(1557.8026, device='cuda:0')\n",
            "save_image\n",
            "400\n",
            "tensor(1333.9973, device='cuda:0') tensor(1267.4990, device='cuda:0')\n",
            "save_image\n",
            "450\n",
            "tensor(1553.3386, device='cuda:0') tensor(1480.8613, device='cuda:0')\n",
            "save_image\n",
            "500\n",
            "tensor(1384.7135, device='cuda:0') tensor(1298.1746, device='cuda:0')\n",
            "save_image\n",
            "550\n",
            "tensor(1508.9878, device='cuda:0') tensor(1426.6427, device='cuda:0')\n",
            "save_image\n",
            "600\n",
            "tensor(1506.4260, device='cuda:0') tensor(1403.1232, device='cuda:0')\n",
            "save_image\n",
            "650\n",
            "tensor(1399.0903, device='cuda:0') tensor(1312.4229, device='cuda:0')\n",
            "save_image\n",
            "700\n",
            "tensor(1808.3893, device='cuda:0') tensor(1689.9016, device='cuda:0')\n",
            "save_image\n",
            "750\n",
            "tensor(1335.1775, device='cuda:0') tensor(1253.9580, device='cuda:0')\n",
            "save_image\n",
            "800\n",
            "tensor(1369.3938, device='cuda:0') tensor(1291.4160, device='cuda:0')\n",
            "save_image\n",
            "850\n",
            "tensor(1541.5488, device='cuda:0') tensor(1431.7462, device='cuda:0')\n",
            "save_image\n",
            "900\n",
            "tensor(1394.2887, device='cuda:0') tensor(1298.8872, device='cuda:0')\n",
            "save_image\n",
            "950\n",
            "tensor(1463.8779, device='cuda:0') tensor(1371.3789, device='cuda:0')\n",
            "save_image\n",
            "1000\n",
            "tensor(1447.3512, device='cuda:0') tensor(1360.2671, device='cuda:0')\n",
            "save_image\n",
            "1050\n",
            "tensor(1240.9133, device='cuda:0') tensor(1164.0574, device='cuda:0')\n",
            "save_image\n",
            "1100\n",
            "tensor(1363.2080, device='cuda:0') tensor(1255.7166, device='cuda:0')\n",
            "save_image\n",
            "1150\n",
            "tensor(1505.9702, device='cuda:0') tensor(1422.8324, device='cuda:0')\n",
            "save_image\n",
            "1200\n",
            "tensor(1375.2980, device='cuda:0') tensor(1290.1085, device='cuda:0')\n",
            "save_image\n",
            "1250\n",
            "tensor(1490.3892, device='cuda:0') tensor(1383.0068, device='cuda:0')\n",
            "save_image\n",
            "1300\n",
            "tensor(1362.7323, device='cuda:0') tensor(1240.8490, device='cuda:0')\n",
            "save_image\n",
            "1350\n",
            "tensor(1878.7561, device='cuda:0') tensor(1742.9932, device='cuda:0')\n",
            "save_image\n",
            "1400\n",
            "tensor(1427.8984, device='cuda:0') tensor(1345.1588, device='cuda:0')\n",
            "save_image\n",
            "1450\n",
            "tensor(1433.2749, device='cuda:0') tensor(1316.7307, device='cuda:0')\n",
            "save_image\n",
            "1500\n",
            "tensor(1611.8474, device='cuda:0') tensor(1482.6250, device='cuda:0')\n",
            "save_image\n",
            "1550\n",
            "tensor(1191.2968, device='cuda:0') tensor(1114.6808, device='cuda:0')\n",
            "save_image\n",
            "1600\n",
            "tensor(1423.7805, device='cuda:0') tensor(1337.6865, device='cuda:0')\n",
            "save_image\n",
            "3\n",
            "0\n",
            "tensor(1318.8210, device='cuda:0') tensor(1227.9657, device='cuda:0')\n",
            "save_image\n",
            "50\n",
            "tensor(1701.2942, device='cuda:0') tensor(1604.9763, device='cuda:0')\n",
            "save_image\n",
            "100\n",
            "tensor(1181.9719, device='cuda:0') tensor(1110.5001, device='cuda:0')\n",
            "save_image\n",
            "150\n",
            "tensor(1472.9297, device='cuda:0') tensor(1377.9928, device='cuda:0')\n",
            "save_image\n",
            "200\n",
            "tensor(1544.9561, device='cuda:0') tensor(1471.8461, device='cuda:0')\n",
            "save_image\n",
            "250\n",
            "tensor(1271.0862, device='cuda:0') tensor(1161.5034, device='cuda:0')\n",
            "save_image\n",
            "300\n",
            "tensor(1432.9548, device='cuda:0') tensor(1337.5171, device='cuda:0')\n",
            "save_image\n",
            "350\n",
            "tensor(1408.7761, device='cuda:0') tensor(1337.2438, device='cuda:0')\n",
            "save_image\n",
            "400\n",
            "tensor(1410.9703, device='cuda:0') tensor(1307.7380, device='cuda:0')\n",
            "save_image\n",
            "450\n",
            "tensor(1290.7454, device='cuda:0') tensor(1192.2142, device='cuda:0')\n",
            "save_image\n",
            "500\n",
            "tensor(1334.2676, device='cuda:0') tensor(1245.9641, device='cuda:0')\n",
            "save_image\n",
            "550\n",
            "tensor(1239.4348, device='cuda:0') tensor(1167.0640, device='cuda:0')\n",
            "save_image\n",
            "600\n",
            "tensor(1370.9049, device='cuda:0') tensor(1257.3038, device='cuda:0')\n",
            "save_image\n",
            "650\n",
            "tensor(1289.1241, device='cuda:0') tensor(1177.0552, device='cuda:0')\n",
            "save_image\n",
            "700\n",
            "tensor(1453.1443, device='cuda:0') tensor(1376.7566, device='cuda:0')\n",
            "save_image\n",
            "750\n",
            "tensor(1734.4766, device='cuda:0') tensor(1632.7843, device='cuda:0')\n",
            "save_image\n",
            "800\n",
            "tensor(1554.5293, device='cuda:0') tensor(1452.9042, device='cuda:0')\n",
            "save_image\n",
            "850\n",
            "tensor(1248.2258, device='cuda:0') tensor(1177.1042, device='cuda:0')\n",
            "save_image\n",
            "900\n",
            "tensor(1337.5344, device='cuda:0') tensor(1247.6273, device='cuda:0')\n",
            "save_image\n",
            "950\n",
            "tensor(1421.5959, device='cuda:0') tensor(1333.6451, device='cuda:0')\n",
            "save_image\n",
            "1000\n",
            "tensor(1429.8148, device='cuda:0') tensor(1351.9620, device='cuda:0')\n",
            "save_image\n",
            "1050\n",
            "tensor(1252.9290, device='cuda:0') tensor(1175.7954, device='cuda:0')\n",
            "save_image\n",
            "1100\n",
            "tensor(1791.7252, device='cuda:0') tensor(1690.1636, device='cuda:0')\n",
            "save_image\n",
            "1150\n",
            "tensor(1459.6649, device='cuda:0') tensor(1350.7437, device='cuda:0')\n",
            "save_image\n",
            "1200\n",
            "tensor(1196.7058, device='cuda:0') tensor(1101.1626, device='cuda:0')\n",
            "save_image\n",
            "1250\n",
            "tensor(1283.0099, device='cuda:0') tensor(1220.6931, device='cuda:0')\n",
            "save_image\n",
            "1300\n",
            "tensor(1172.6787, device='cuda:0') tensor(1081.2720, device='cuda:0')\n",
            "save_image\n",
            "1350\n",
            "tensor(1366.4468, device='cuda:0') tensor(1261.9192, device='cuda:0')\n",
            "save_image\n",
            "1400\n",
            "tensor(1201.3861, device='cuda:0') tensor(1128.0804, device='cuda:0')\n",
            "save_image\n",
            "1450\n",
            "tensor(1469.0579, device='cuda:0') tensor(1357.8158, device='cuda:0')\n",
            "save_image\n",
            "1500\n",
            "tensor(1387.5551, device='cuda:0') tensor(1300.6840, device='cuda:0')\n",
            "save_image\n",
            "1550\n",
            "tensor(1490.0111, device='cuda:0') tensor(1395.1158, device='cuda:0')\n",
            "save_image\n",
            "1600\n",
            "tensor(1470.6006, device='cuda:0') tensor(1358.4442, device='cuda:0')\n",
            "save_image\n",
            "4\n",
            "0\n",
            "tensor(1227.1093, device='cuda:0') tensor(1155.6711, device='cuda:0')\n",
            "save_image\n",
            "50\n",
            "tensor(1520.6177, device='cuda:0') tensor(1442.6082, device='cuda:0')\n",
            "save_image\n",
            "100\n",
            "tensor(1188.3594, device='cuda:0') tensor(1093.9843, device='cuda:0')\n",
            "save_image\n",
            "150\n",
            "tensor(1458.4128, device='cuda:0') tensor(1337.8507, device='cuda:0')\n",
            "save_image\n",
            "200\n",
            "tensor(1362.5254, device='cuda:0') tensor(1278.7797, device='cuda:0')\n",
            "save_image\n",
            "250\n",
            "tensor(1305.0754, device='cuda:0') tensor(1213.0129, device='cuda:0')\n",
            "save_image\n",
            "300\n",
            "tensor(1327.6111, device='cuda:0') tensor(1232.3943, device='cuda:0')\n",
            "save_image\n",
            "350\n",
            "tensor(1344.6523, device='cuda:0') tensor(1281.9678, device='cuda:0')\n",
            "save_image\n",
            "400\n",
            "tensor(1259.7192, device='cuda:0') tensor(1186.7517, device='cuda:0')\n",
            "save_image\n",
            "450\n",
            "tensor(1468.4900, device='cuda:0') tensor(1372.5691, device='cuda:0')\n",
            "save_image\n",
            "500\n",
            "tensor(1513.0745, device='cuda:0') tensor(1397.2719, device='cuda:0')\n",
            "save_image\n",
            "550\n",
            "tensor(1516.2338, device='cuda:0') tensor(1429.5486, device='cuda:0')\n",
            "save_image\n",
            "600\n",
            "tensor(1305.8804, device='cuda:0') tensor(1211.6633, device='cuda:0')\n",
            "save_image\n",
            "650\n",
            "tensor(1322.3911, device='cuda:0') tensor(1248.9763, device='cuda:0')\n",
            "save_image\n",
            "700\n",
            "tensor(1504.4701, device='cuda:0') tensor(1425.3571, device='cuda:0')\n",
            "save_image\n",
            "750\n",
            "tensor(1575.2178, device='cuda:0') tensor(1494.0500, device='cuda:0')\n",
            "save_image\n",
            "800\n",
            "tensor(1408.5940, device='cuda:0') tensor(1330.3438, device='cuda:0')\n",
            "save_image\n",
            "850\n",
            "tensor(1420.6198, device='cuda:0') tensor(1342.1978, device='cuda:0')\n",
            "save_image\n",
            "900\n",
            "tensor(1529.8032, device='cuda:0') tensor(1443.5061, device='cuda:0')\n",
            "save_image\n",
            "950\n",
            "tensor(1214.0862, device='cuda:0') tensor(1120.6730, device='cuda:0')\n",
            "save_image\n",
            "1000\n",
            "tensor(1580.3834, device='cuda:0') tensor(1421.6084, device='cuda:0')\n",
            "save_image\n",
            "1050\n",
            "tensor(1272.8303, device='cuda:0') tensor(1167.9662, device='cuda:0')\n",
            "save_image\n",
            "1100\n",
            "tensor(1408.5132, device='cuda:0') tensor(1310.0717, device='cuda:0')\n",
            "save_image\n",
            "1150\n",
            "tensor(1412.8186, device='cuda:0') tensor(1316.0310, device='cuda:0')\n",
            "save_image\n",
            "1200\n",
            "tensor(1197.0444, device='cuda:0') tensor(1117.0223, device='cuda:0')\n",
            "save_image\n",
            "1250\n",
            "tensor(1379.1594, device='cuda:0') tensor(1280.9219, device='cuda:0')\n",
            "save_image\n",
            "1300\n",
            "tensor(1606.8960, device='cuda:0') tensor(1501.2092, device='cuda:0')\n",
            "save_image\n",
            "1350\n",
            "tensor(1345.8970, device='cuda:0') tensor(1258.5051, device='cuda:0')\n",
            "save_image\n",
            "1400\n",
            "tensor(1209.3816, device='cuda:0') tensor(1101.9451, device='cuda:0')\n",
            "save_image\n",
            "1450\n",
            "tensor(1500.8544, device='cuda:0') tensor(1398.1578, device='cuda:0')\n",
            "save_image\n",
            "1500\n",
            "tensor(1596.8086, device='cuda:0') tensor(1475.4651, device='cuda:0')\n",
            "save_image\n",
            "1550\n",
            "tensor(1427.0195, device='cuda:0') tensor(1312.7649, device='cuda:0')\n",
            "save_image\n",
            "1600\n",
            "tensor(1631.9016, device='cuda:0') tensor(1504.9166, device='cuda:0')\n",
            "save_image\n",
            "5\n",
            "0\n",
            "tensor(1491.6549, device='cuda:0') tensor(1390.4116, device='cuda:0')\n",
            "save_image\n",
            "50\n",
            "tensor(1359.7090, device='cuda:0') tensor(1264.2468, device='cuda:0')\n",
            "save_image\n",
            "100\n",
            "tensor(1225.0233, device='cuda:0') tensor(1131.5168, device='cuda:0')\n",
            "save_image\n",
            "150\n",
            "tensor(1406.0231, device='cuda:0') tensor(1321.4302, device='cuda:0')\n",
            "save_image\n",
            "200\n",
            "tensor(1296.3979, device='cuda:0') tensor(1202.1028, device='cuda:0')\n",
            "save_image\n",
            "250\n",
            "tensor(1454.2035, device='cuda:0') tensor(1346.0662, device='cuda:0')\n",
            "save_image\n",
            "300\n",
            "tensor(1285.9038, device='cuda:0') tensor(1185.2798, device='cuda:0')\n",
            "save_image\n",
            "350\n",
            "tensor(1313.3927, device='cuda:0') tensor(1197.8022, device='cuda:0')\n",
            "save_image\n",
            "400\n",
            "tensor(1539.4402, device='cuda:0') tensor(1423.2571, device='cuda:0')\n",
            "save_image\n",
            "450\n",
            "tensor(1259.2462, device='cuda:0') tensor(1186.3622, device='cuda:0')\n",
            "save_image\n",
            "500\n",
            "tensor(1358.1316, device='cuda:0') tensor(1243.3517, device='cuda:0')\n",
            "save_image\n",
            "550\n",
            "tensor(1296.9695, device='cuda:0') tensor(1188.5383, device='cuda:0')\n",
            "save_image\n",
            "600\n",
            "tensor(1367.7766, device='cuda:0') tensor(1284.5409, device='cuda:0')\n",
            "save_image\n",
            "650\n",
            "tensor(1398.2461, device='cuda:0') tensor(1292.9365, device='cuda:0')\n",
            "save_image\n",
            "700\n",
            "tensor(1341.3983, device='cuda:0') tensor(1235.7451, device='cuda:0')\n",
            "save_image\n",
            "750\n",
            "tensor(1329.8798, device='cuda:0') tensor(1219.0387, device='cuda:0')\n",
            "save_image\n",
            "800\n",
            "tensor(1147.9482, device='cuda:0') tensor(1060.6074, device='cuda:0')\n",
            "save_image\n",
            "850\n",
            "tensor(1466.2881, device='cuda:0') tensor(1350.6877, device='cuda:0')\n",
            "save_image\n",
            "900\n",
            "tensor(1511.7710, device='cuda:0') tensor(1411.7676, device='cuda:0')\n",
            "save_image\n",
            "950\n",
            "tensor(1467.6775, device='cuda:0') tensor(1329.6051, device='cuda:0')\n",
            "save_image\n",
            "1000\n",
            "tensor(1136.8634, device='cuda:0') tensor(1041.7633, device='cuda:0')\n",
            "save_image\n",
            "1050\n",
            "tensor(1218.0829, device='cuda:0') tensor(1156.9250, device='cuda:0')\n",
            "save_image\n",
            "1100\n",
            "tensor(1360.3486, device='cuda:0') tensor(1268.5171, device='cuda:0')\n",
            "save_image\n",
            "1150\n",
            "tensor(1459.2146, device='cuda:0') tensor(1379.2009, device='cuda:0')\n",
            "save_image\n",
            "1200\n",
            "tensor(1550.7893, device='cuda:0') tensor(1393.6183, device='cuda:0')\n",
            "save_image\n",
            "1250\n",
            "tensor(1550.0593, device='cuda:0') tensor(1467.5652, device='cuda:0')\n",
            "save_image\n",
            "1300\n",
            "tensor(1227.2069, device='cuda:0') tensor(1146.5111, device='cuda:0')\n",
            "save_image\n",
            "1350\n",
            "tensor(1456.5884, device='cuda:0') tensor(1348.9961, device='cuda:0')\n",
            "save_image\n",
            "1400\n",
            "tensor(1278.6809, device='cuda:0') tensor(1158.3635, device='cuda:0')\n",
            "save_image\n",
            "1450\n",
            "tensor(1387.1565, device='cuda:0') tensor(1301.8789, device='cuda:0')\n",
            "save_image\n",
            "1500\n",
            "tensor(1263.6571, device='cuda:0') tensor(1169.6274, device='cuda:0')\n",
            "save_image\n",
            "1550\n",
            "tensor(1186.4037, device='cuda:0') tensor(1118.3867, device='cuda:0')\n",
            "save_image\n",
            "1600\n",
            "tensor(1544.2734, device='cuda:0') tensor(1436.0256, device='cuda:0')\n",
            "save_image\n",
            "6\n",
            "0\n",
            "tensor(1099.8145, device='cuda:0') tensor(1026.8674, device='cuda:0')\n",
            "save_image\n",
            "50\n",
            "tensor(1388.9161, device='cuda:0') tensor(1299.8787, device='cuda:0')\n",
            "save_image\n",
            "100\n",
            "tensor(1207.8228, device='cuda:0') tensor(1137.4633, device='cuda:0')\n",
            "save_image\n",
            "150\n",
            "tensor(1348.5842, device='cuda:0') tensor(1246.1560, device='cuda:0')\n",
            "save_image\n",
            "200\n",
            "tensor(1401.2653, device='cuda:0') tensor(1318.6908, device='cuda:0')\n",
            "save_image\n",
            "250\n",
            "tensor(1367.2922, device='cuda:0') tensor(1255.7394, device='cuda:0')\n",
            "save_image\n",
            "300\n",
            "tensor(1334.8298, device='cuda:0') tensor(1226.4817, device='cuda:0')\n",
            "save_image\n",
            "350\n",
            "tensor(1371.1503, device='cuda:0') tensor(1272.8405, device='cuda:0')\n",
            "save_image\n",
            "400\n",
            "tensor(1200.6888, device='cuda:0') tensor(1142.8877, device='cuda:0')\n",
            "save_image\n",
            "450\n",
            "tensor(1384.2935, device='cuda:0') tensor(1282.5946, device='cuda:0')\n",
            "save_image\n",
            "500\n",
            "tensor(1378.7518, device='cuda:0') tensor(1254.4946, device='cuda:0')\n",
            "save_image\n",
            "550\n",
            "tensor(1396.5122, device='cuda:0') tensor(1303.8108, device='cuda:0')\n",
            "save_image\n",
            "600\n",
            "tensor(1425.8601, device='cuda:0') tensor(1329.9020, device='cuda:0')\n",
            "save_image\n",
            "650\n",
            "tensor(1220.8088, device='cuda:0') tensor(1126.4076, device='cuda:0')\n",
            "save_image\n",
            "700\n",
            "tensor(1173.8743, device='cuda:0') tensor(1077.9006, device='cuda:0')\n",
            "save_image\n",
            "750\n",
            "tensor(1458.2366, device='cuda:0') tensor(1322.3577, device='cuda:0')\n",
            "save_image\n",
            "800\n",
            "tensor(1340.7671, device='cuda:0') tensor(1232.7087, device='cuda:0')\n",
            "save_image\n"
          ],
          "name": "stdout"
        },
        {
          "output_type": "stream",
          "text": [
            "Process Process-103:\n",
            "Process Process-101:\n",
            "Process Process-102:\n",
            "Process Process-104:\n",
            "Traceback (most recent call last):\n",
            "Traceback (most recent call last):\n",
            "Traceback (most recent call last):\n",
            "  File \"/usr/lib/python3.6/multiprocessing/process.py\", line 258, in _bootstrap\n",
            "    self.run()\n",
            "  File \"/usr/lib/python3.6/multiprocessing/process.py\", line 258, in _bootstrap\n",
            "    self.run()\n",
            "Traceback (most recent call last):\n",
            "  File \"/usr/lib/python3.6/multiprocessing/process.py\", line 258, in _bootstrap\n",
            "    self.run()\n",
            "  File \"/usr/lib/python3.6/multiprocessing/process.py\", line 93, in run\n",
            "    self._target(*self._args, **self._kwargs)\n",
            "  File \"/usr/lib/python3.6/multiprocessing/process.py\", line 93, in run\n",
            "    self._target(*self._args, **self._kwargs)\n",
            "  File \"/usr/local/lib/python3.6/dist-packages/torch/utils/data/dataloader.py\", line 52, in _worker_loop\n",
            "    r = index_queue.get()\n",
            "  File \"/usr/local/lib/python3.6/dist-packages/torch/utils/data/dataloader.py\", line 52, in _worker_loop\n",
            "    r = index_queue.get()\n",
            "  File \"/usr/lib/python3.6/multiprocessing/process.py\", line 258, in _bootstrap\n",
            "    self.run()\n",
            "  File \"/usr/lib/python3.6/multiprocessing/process.py\", line 93, in run\n",
            "    self._target(*self._args, **self._kwargs)\n",
            "  File \"/usr/local/lib/python3.6/dist-packages/torch/utils/data/dataloader.py\", line 52, in _worker_loop\n",
            "    r = index_queue.get()\n",
            "  File \"/usr/lib/python3.6/multiprocessing/queues.py\", line 335, in get\n",
            "    res = self._reader.recv_bytes()\n",
            "  File \"/usr/lib/python3.6/multiprocessing/queues.py\", line 335, in get\n",
            "    res = self._reader.recv_bytes()\n",
            "  File \"/usr/lib/python3.6/multiprocessing/connection.py\", line 216, in recv_bytes\n",
            "    buf = self._recv_bytes(maxlength)\n",
            "  File \"/usr/lib/python3.6/multiprocessing/connection.py\", line 216, in recv_bytes\n",
            "    buf = self._recv_bytes(maxlength)\n",
            "  File \"/usr/lib/python3.6/multiprocessing/connection.py\", line 407, in _recv_bytes\n",
            "    buf = self._recv(4)\n",
            "  File \"/usr/lib/python3.6/multiprocessing/connection.py\", line 407, in _recv_bytes\n",
            "    buf = self._recv(4)\n",
            "  File \"/usr/lib/python3.6/multiprocessing/process.py\", line 93, in run\n",
            "    self._target(*self._args, **self._kwargs)\n",
            "  File \"/usr/lib/python3.6/multiprocessing/connection.py\", line 379, in _recv\n",
            "    chunk = read(handle, remaining)\n",
            "  File \"/usr/lib/python3.6/multiprocessing/queues.py\", line 335, in get\n",
            "    res = self._reader.recv_bytes()\n",
            "  File \"/usr/lib/python3.6/multiprocessing/connection.py\", line 379, in _recv\n",
            "    chunk = read(handle, remaining)\n",
            "KeyboardInterrupt\n",
            "  File \"/usr/local/lib/python3.6/dist-packages/torch/utils/data/dataloader.py\", line 52, in _worker_loop\n",
            "    r = index_queue.get()\n",
            "KeyboardInterrupt\n",
            "  File \"/usr/lib/python3.6/multiprocessing/queues.py\", line 335, in get\n",
            "    res = self._reader.recv_bytes()\n",
            "  File \"/usr/lib/python3.6/multiprocessing/connection.py\", line 216, in recv_bytes\n",
            "    buf = self._recv_bytes(maxlength)\n",
            "  File \"/usr/lib/python3.6/multiprocessing/connection.py\", line 216, in recv_bytes\n",
            "    buf = self._recv_bytes(maxlength)\n",
            "  File \"/usr/lib/python3.6/multiprocessing/connection.py\", line 407, in _recv_bytes\n",
            "    buf = self._recv(4)\n",
            "  File \"/usr/lib/python3.6/multiprocessing/connection.py\", line 407, in _recv_bytes\n",
            "    buf = self._recv(4)\n",
            "  File \"/usr/lib/python3.6/multiprocessing/connection.py\", line 379, in _recv\n",
            "    chunk = read(handle, remaining)\n",
            "  File \"/usr/lib/python3.6/multiprocessing/connection.py\", line 379, in _recv\n",
            "    chunk = read(handle, remaining)\n",
            "KeyboardInterrupt\n",
            "KeyboardInterrupt\n"
          ],
          "name": "stderr"
        },
        {
          "output_type": "error",
          "ename": "KeyboardInterrupt",
          "evalue": "ignored",
          "traceback": [
            "\u001b[0;31m---------------------------------------------------------------------------\u001b[0m",
            "\u001b[0;31mKeyboardInterrupt\u001b[0m                         Traceback (most recent call last)",
            "\u001b[0;32m<ipython-input-65-e39c348e7cbc>\u001b[0m in \u001b[0;36m<module>\u001b[0;34m()\u001b[0m\n\u001b[1;32m      6\u001b[0m     \u001b[0;32mif\u001b[0m \u001b[0mepoch\u001b[0m\u001b[0;34m==\u001b[0m\u001b[0;36m1\u001b[0m\u001b[0;34m:\u001b[0m\u001b[0;34m\u001b[0m\u001b[0m\n\u001b[1;32m      7\u001b[0m         \u001b[0mprint\u001b[0m\u001b[0;34m(\u001b[0m\u001b[0;34m\"trainning start!!\"\u001b[0m\u001b[0;34m)\u001b[0m\u001b[0;34m\u001b[0m\u001b[0m\n\u001b[0;32m----> 8\u001b[0;31m     \u001b[0mg_loss_\u001b[0m\u001b[0;34m,\u001b[0m\u001b[0me_loss_\u001b[0m\u001b[0;34m=\u001b[0m\u001b[0mtrain\u001b[0m\u001b[0;34m(\u001b[0m\u001b[0mepoch\u001b[0m\u001b[0;34m)\u001b[0m\u001b[0;34m\u001b[0m\u001b[0m\n\u001b[0m\u001b[1;32m      9\u001b[0m \u001b[0;34m\u001b[0m\u001b[0m\n\u001b[1;32m     10\u001b[0m     \u001b[0;32mif\u001b[0m \u001b[0mepoch\u001b[0m\u001b[0;34m%\u001b[0m\u001b[0;36m1\u001b[0m\u001b[0;34m==\u001b[0m\u001b[0;36m0\u001b[0m\u001b[0;34m:\u001b[0m\u001b[0;34m\u001b[0m\u001b[0m\n",
            "\u001b[0;32m<ipython-input-64-7c4663785430>\u001b[0m in \u001b[0;36mtrain\u001b[0;34m(epoch, batch_size, m, alpha, beta)\u001b[0m\n\u001b[1;32m     62\u001b[0m \u001b[0;34m\u001b[0m\u001b[0m\n\u001b[1;32m     63\u001b[0m         \u001b[0mG_Loss\u001b[0m\u001b[0;34m=\u001b[0m\u001b[0mL_Gadv\u001b[0m\u001b[0;34m+\u001b[0m\u001b[0mbeta\u001b[0m\u001b[0;34m*\u001b[0m\u001b[0mL_AE\u001b[0m\u001b[0;34m\u001b[0m\u001b[0m\n\u001b[0;32m---> 64\u001b[0;31m         \u001b[0mG_Loss\u001b[0m\u001b[0;34m.\u001b[0m\u001b[0mbackward\u001b[0m\u001b[0;34m(\u001b[0m\u001b[0;34m)\u001b[0m\u001b[0;34m\u001b[0m\u001b[0m\n\u001b[0m\u001b[1;32m     65\u001b[0m         \u001b[0mg_optimizer\u001b[0m\u001b[0;34m.\u001b[0m\u001b[0mstep\u001b[0m\u001b[0;34m(\u001b[0m\u001b[0;34m)\u001b[0m\u001b[0;34m\u001b[0m\u001b[0m\n\u001b[1;32m     66\u001b[0m \u001b[0;34m\u001b[0m\u001b[0m\n",
            "\u001b[0;32m/usr/local/lib/python3.6/dist-packages/torch/tensor.py\u001b[0m in \u001b[0;36mbackward\u001b[0;34m(self, gradient, retain_graph, create_graph)\u001b[0m\n\u001b[1;32m     91\u001b[0m                 \u001b[0mproducts\u001b[0m\u001b[0;34m.\u001b[0m \u001b[0mDefaults\u001b[0m \u001b[0mto\u001b[0m\u001b[0;31m \u001b[0m\u001b[0;31m`\u001b[0m\u001b[0;31m`\u001b[0m\u001b[0;32mFalse\u001b[0m\u001b[0;31m`\u001b[0m\u001b[0;31m`\u001b[0m\u001b[0;34m.\u001b[0m\u001b[0;34m\u001b[0m\u001b[0m\n\u001b[1;32m     92\u001b[0m         \"\"\"\n\u001b[0;32m---> 93\u001b[0;31m         \u001b[0mtorch\u001b[0m\u001b[0;34m.\u001b[0m\u001b[0mautograd\u001b[0m\u001b[0;34m.\u001b[0m\u001b[0mbackward\u001b[0m\u001b[0;34m(\u001b[0m\u001b[0mself\u001b[0m\u001b[0;34m,\u001b[0m \u001b[0mgradient\u001b[0m\u001b[0;34m,\u001b[0m \u001b[0mretain_graph\u001b[0m\u001b[0;34m,\u001b[0m \u001b[0mcreate_graph\u001b[0m\u001b[0;34m)\u001b[0m\u001b[0;34m\u001b[0m\u001b[0m\n\u001b[0m\u001b[1;32m     94\u001b[0m \u001b[0;34m\u001b[0m\u001b[0m\n\u001b[1;32m     95\u001b[0m     \u001b[0;32mdef\u001b[0m \u001b[0mregister_hook\u001b[0m\u001b[0;34m(\u001b[0m\u001b[0mself\u001b[0m\u001b[0;34m,\u001b[0m \u001b[0mhook\u001b[0m\u001b[0;34m)\u001b[0m\u001b[0;34m:\u001b[0m\u001b[0;34m\u001b[0m\u001b[0m\n",
            "\u001b[0;32m/usr/local/lib/python3.6/dist-packages/torch/autograd/__init__.py\u001b[0m in \u001b[0;36mbackward\u001b[0;34m(tensors, grad_tensors, retain_graph, create_graph, grad_variables)\u001b[0m\n\u001b[1;32m     87\u001b[0m     Variable._execution_engine.run_backward(\n\u001b[1;32m     88\u001b[0m         \u001b[0mtensors\u001b[0m\u001b[0;34m,\u001b[0m \u001b[0mgrad_tensors\u001b[0m\u001b[0;34m,\u001b[0m \u001b[0mretain_graph\u001b[0m\u001b[0;34m,\u001b[0m \u001b[0mcreate_graph\u001b[0m\u001b[0;34m,\u001b[0m\u001b[0;34m\u001b[0m\u001b[0m\n\u001b[0;32m---> 89\u001b[0;31m         allow_unreachable=True)  # allow_unreachable flag\n\u001b[0m\u001b[1;32m     90\u001b[0m \u001b[0;34m\u001b[0m\u001b[0m\n\u001b[1;32m     91\u001b[0m \u001b[0;34m\u001b[0m\u001b[0m\n",
            "\u001b[0;31mKeyboardInterrupt\u001b[0m: "
          ]
        }
      ]
    },
    {
      "metadata": {
        "id": "mgICit7cPr6O",
        "colab_type": "code",
        "colab": {
          "base_uri": "https://localhost:8080/",
          "height": 85
        },
        "outputId": "2043bd2d-857f-41f0-c35d-2267359774ab"
      },
      "cell_type": "code",
      "source": [
        "a=torch.ones((1,32))\n",
        "c=a.size()\n",
        "\n",
        "print(c)\n",
        "\n",
        "b=a\n",
        "print(a)\n"
      ],
      "execution_count": 37,
      "outputs": [
        {
          "output_type": "stream",
          "text": [
            "torch.Size([1, 32])\n",
            "tensor([[ 1.,  1.,  1.,  1.,  1.,  1.,  1.,  1.,  1.,  1.,  1.,  1.,\n",
            "          1.,  1.,  1.,  1.,  1.,  1.,  1.,  1.,  1.,  1.,  1.,  1.,\n",
            "          1.,  1.,  1.,  1.,  1.,  1.,  1.,  1.]])\n"
          ],
          "name": "stdout"
        }
      ]
    },
    {
      "metadata": {
        "id": "1rmPeJYxQyf7",
        "colab_type": "code",
        "colab": {
          "base_uri": "https://localhost:8080/",
          "height": 68
        },
        "outputId": "09800b97-7135-47c5-a8c0-18ca17df509b"
      },
      "cell_type": "code",
      "source": [
        "ls drive/"
      ],
      "execution_count": 66,
      "outputs": [
        {
          "output_type": "stream",
          "text": [
            "\u001b[0m\u001b[01;34masset\u001b[0m/            datasets.zip   \u001b[01;34msave_image\u001b[0m/          vae.pth\n",
            "\u001b[01;34mColab Notebooks\u001b[0m/  loss_list.npy  SuperResolution.zip\n",
            "\u001b[01;34mdataset\u001b[0m/          \u001b[01;34msave\u001b[0m/          test_loss_list.npy\n"
          ],
          "name": "stdout"
        }
      ]
    },
    {
      "metadata": {
        "id": "wZuL3jR89yoP",
        "colab_type": "code",
        "colab": {}
      },
      "cell_type": "code",
      "source": [
        ""
      ],
      "execution_count": 0,
      "outputs": []
    }
  ]
}
